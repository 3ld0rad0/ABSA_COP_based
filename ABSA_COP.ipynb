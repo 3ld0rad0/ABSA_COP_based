{
  "cells": [
    {
      "cell_type": "code",
      "execution_count": 1,
      "metadata": {
        "colab": {
          "base_uri": "https://localhost:8080/"
        },
        "id": "vnlSaaKPQpn7",
        "outputId": "9c592a14-afe2-4a83-b6e4-4e10fcb004c5"
      },
      "outputs": [
        {
          "name": "stdout",
          "output_type": "stream",
          "text": [
            "Mounted at /content/drive\n"
          ]
        }
      ],
      "source": [
        "#COLAB\n",
        "from google.colab import drive\n",
        "drive.mount('/content/drive')"
      ]
    },
    {
      "cell_type": "code",
      "execution_count": null,
      "metadata": {
        "id": "WKxD6_nIVeC6"
      },
      "outputs": [],
      "source": [
        "!pip install -U bitsandbytes\n",
        "!pip install fuzzywuzzy\n",
        "!pip install python-Levenshtein\n",
        "!pip install datasets"
      ]
    },
    {
      "cell_type": "code",
      "execution_count": 3,
      "metadata": {
        "id": "z3vxoN5qUsP9"
      },
      "outputs": [],
      "source": [
        "import pandas as pd\n",
        "import numpy as np\n",
        "import random\n",
        "from collections import Counter\n",
        "## The FuzzyWuzzy library is used to evaluate the similarity between text strings using Levenshtein similarity (a metric that measures the minimum number of changes\n",
        "## needed to transform one string into another). This measure is useful for avoiding inconsistencies between the data passed to Mistral for generation and the generated data.\n",
        "import fuzzywuzzy\n",
        "from fuzzywuzzy import fuzz\n",
        "import os\n",
        "import re\n",
        "import json\n",
        "from huggingface_hub import login\n",
        "import torch\n",
        "from torch import nn\n",
        "from torch.nn import functional as F\n",
        "from torch.utils.data import Dataset\n",
        "from sklearn.metrics import multilabel_confusion_matrix, precision_score, recall_score, f1_score\n",
        "from transformers import BitsAndBytesConfig, AutoModelForCausalLM, AutoTokenizer, pipeline\n",
        "import time\n",
        "from tqdm import tqdm\n",
        "import warnings\n",
        "warnings.filterwarnings('ignore')\n",
        "from datasets import load_dataset\n",
        "import matplotlib.pyplot as plt"
      ]
    },
    {
      "cell_type": "code",
      "execution_count": 4,
      "metadata": {
        "id": "oYHFpefQyBHG"
      },
      "outputs": [],
      "source": [
        "PROJ_FOLDER = './drive/My Drive/SN_project/' ## ---> Path to the folder that contains the project"
      ]
    },
    {
      "cell_type": "markdown",
      "metadata": {
        "id": "CHHyMQRYoZ84"
      },
      "source": [
        "# Import and clean data"
      ]
    },
    {
      "cell_type": "markdown",
      "metadata": {
        "id": "dK717OsFnAtV"
      },
      "source": [
        "Load the data and clean it, before the next steps"
      ]
    },
    {
      "cell_type": "code",
      "execution_count": null,
      "metadata": {
        "id": "XyRYoX1xQ40F"
      },
      "outputs": [],
      "source": [
        "DATA_FOLDER = os.path.join(PROJ_FOLDER,'data')\n",
        "FILE_NAME = 'COP_26.csv'\n",
        "\n",
        "df = pd.read_csv(os.path.join(DATA_FOLDER,FILE_NAME),encoding='unicode_escape')\n",
        "\n",
        "if FILE_NAME  == 'COP_26.csv':\n",
        "  df.rename(columns={'tweetContent': 'text'},inplace = True)\n",
        "\n",
        "df.info()"
      ]
    },
    {
      "cell_type": "code",
      "execution_count": null,
      "metadata": {
        "id": "6CZefK2LnEON"
      },
      "outputs": [],
      "source": [
        "## Clean tweets ##\n",
        "def remove_emoji(string):\n",
        "    emoji_pattern = re.compile(\"[\"\n",
        "                       u\"\\U0001F600-\\U0001F64F\"  # emoticons\n",
        "                       u\"\\U0001F300-\\U0001F5FF\"  # symbols & pictographs\n",
        "                       u\"\\U0001F680-\\U0001F6FF\"  # transport & map symbols\n",
        "                       u\"\\U0001F1E0-\\U0001F1FF\"  # flags (iOS)\n",
        "                       u\"\\U00002702-\\U000027B0\"\n",
        "                       u\"\\U000024C2-\\U0001F251\"\n",
        "                       \"]+\", flags=re.UNICODE)\n",
        "    return emoji_pattern.sub(r'', string)\n",
        "\n",
        "def clean_tweet(tweet, remove_mentions=False, remove_hashtags=False, tokenize=False):\n",
        "    temp = tweet\n",
        "    temp = re.sub(\"'\", \"\", temp)\n",
        "    temp = remove_emoji(temp)\n",
        "    temp = re.sub(r'http\\S+', '', temp)\n",
        "    temp = re.sub('\\n', '', temp)\n",
        "    temp = re.sub(r'[^\\x00-\\x7F]+', '', temp)\n",
        "    temp = re.sub(r'[()!?]', ' ', temp)\n",
        "    temp = re.sub(r'\\[.*?\\]', ' ', temp)\n",
        "\n",
        "    if remove_mentions:\n",
        "        temp = re.sub(\"@[A-Za-z0-9_]+\", \"\", temp)\n",
        "    if remove_hashtags:\n",
        "        temp = re.sub(\"#\\w+\", \"\", temp)\n",
        "    if tokenize:\n",
        "        tokens = temp.split()\n",
        "        temp = ' '.join(tokens)\n",
        "\n",
        "    return temp"
      ]
    },
    {
      "cell_type": "code",
      "execution_count": null,
      "metadata": {
        "id": "zvJtC92w0cox"
      },
      "outputs": [],
      "source": [
        "df['Clean'] = df['text'].apply(clean_tweet)"
      ]
    },
    {
      "cell_type": "code",
      "execution_count": null,
      "metadata": {
        "id": "5UjbweGO0OW3"
      },
      "outputs": [],
      "source": [
        "df[['text','Clean']].head()"
      ]
    },
    {
      "cell_type": "code",
      "execution_count": null,
      "metadata": {
        "id": "dTPgpUD2G3dx"
      },
      "outputs": [],
      "source": [
        "df['char_count'] = df['Clean'].apply(len)"
      ]
    },
    {
      "cell_type": "code",
      "execution_count": null,
      "metadata": {
        "id": "AegbAlIIpC2c"
      },
      "outputs": [],
      "source": [
        "## Filter rows with <= 256 char ##\n",
        "df.drop_duplicates(subset = ['Clean'],inplace = True)\n",
        "df = df[df['char_count'] <= 256]\n",
        "\n",
        "df.reset_index(drop=True, inplace=True)"
      ]
    },
    {
      "cell_type": "code",
      "execution_count": null,
      "metadata": {
        "id": "hFfKjatGpEPi"
      },
      "outputs": [],
      "source": [
        "df.info()"
      ]
    },
    {
      "cell_type": "code",
      "execution_count": null,
      "metadata": {
        "id": "3nwB_uhd4M5u"
      },
      "outputs": [],
      "source": [
        "N = 5000\n",
        "F = 0\n",
        "\n",
        "if F == 0:\n",
        "  tweets = df['Clean'].head(N)\n",
        "else:\n",
        "  tweets = df['Clean'].iloc[F*N+1:(F*N+1)+N]\n",
        "\n",
        "tweets"
      ]
    },
    {
      "cell_type": "markdown",
      "metadata": {
        "id": "iogK3255oflX"
      },
      "source": [
        "# Load Mistral Instruct v.3"
      ]
    },
    {
      "cell_type": "code",
      "execution_count": null,
      "metadata": {
        "id": "1y68lO3wUZrQ"
      },
      "outputs": [],
      "source": [
        "key = \"hugging_face_token\"\n",
        "login(key)"
      ]
    },
    {
      "cell_type": "code",
      "execution_count": null,
      "metadata": {
        "id": "Zyh6lZPWKUfC"
      },
      "outputs": [],
      "source": [
        "quantization_config = BitsAndBytesConfig(\n",
        "    load_in_4bit=True,\n",
        "    bnb_4bit_compute_dtype=torch.float16,\n",
        "    bnb_4bit_quant_type=\"nf4\",\n",
        "    bnb_4bit_use_double_quant=True,\n",
        ")"
      ]
    },
    {
      "cell_type": "code",
      "execution_count": null,
      "metadata": {
        "id": "zXyrN6aBKUcn"
      },
      "outputs": [],
      "source": [
        "# Load Model and Tokenizer\n",
        "MODEL_TYPE = \"mistralai/Mistral-7B-Instruct-v0.3\"\n",
        "mistral_model = AutoModelForCausalLM.from_pretrained(MODEL_TYPE, device_map=\"auto\",quantization_config=quantization_config,)\n",
        "mistral_tokenizer = AutoTokenizer.from_pretrained(MODEL_TYPE)"
      ]
    },
    {
      "cell_type": "markdown",
      "metadata": {
        "id": "H-MiZLCTZeYS"
      },
      "source": [
        "# Utils"
      ]
    },
    {
      "cell_type": "markdown",
      "metadata": {
        "id": "yLNGyLY0nAtZ"
      },
      "source": [
        "A bunch of methods and constants that we use later in the next steps"
      ]
    },
    {
      "cell_type": "code",
      "execution_count": 5,
      "metadata": {
        "id": "EQDCy5Mi2m11"
      },
      "outputs": [],
      "source": [
        "UTILS_PATH = os.path.join(PROJ_FOLDER,'utils') ## ---> Path to the folder that contains prompt.json and examples.json\n",
        "PROMPT_PATH = os.path.join(UTILS_PATH,'prompt.json') ## ---> Contains the prompts that we will use later\n",
        "EXAMPLES_PATH = os.path.join(UTILS_PATH,'examples.json') ## ---> Contains examples and chains\n",
        "MISTRAL_RES_PATH = os.path.join(PROJ_FOLDER,'mistral_results') ## ---> Store the Mistral generated results\n",
        "TRAIN_TEST_FOLDER = os.path.join(PROJ_FOLDER,'train_test_data') ## ---> Folder that contains train,test and validation set\n",
        "TRAIN_RAW_FILE = os.path.join(TRAIN_TEST_FOLDER,'ABSA_dataset.jsonl') ## ---> File that contains the final dataset\n",
        "TRAIN_FILE = os.path.join(TRAIN_TEST_FOLDER,'train.jsonl') ## ---> Train file\n",
        "TEST_FILE = os.path.join(TRAIN_TEST_FOLDER,'test.jsonl') ## ---> Test file\n",
        "VAL_FILE = os.path.join(TRAIN_TEST_FOLDER,'val.jsonl') ## --->  Validation file\n",
        "MODEL_PATH = os.path.join(PROJ_FOLDER, \"model/fine_tune_roberta_for_ABSA\") ## ---> Path to the saved model and model results\n",
        "RESULTS_MODEL_PATH = os.path.join(PROJ_FOLDER, \"model/results\") ## ---> Path to the model results"
      ]
    },
    {
      "cell_type": "code",
      "execution_count": 6,
      "metadata": {
        "id": "eE3kpDWQnAta"
      },
      "outputs": [],
      "source": [
        "## Categories choose as labels to tag the spans (these will be the classes to use in the task of span categorization) ##\n",
        "CATEGORIES = [\"CONFERENCE\",\"POLICIES_AND_STRATEGIES\",\"GREEN_ENERGY\",\"STAKEHOLDER\",\"ORGANIZATION\",\"SUSTAINABILITY\",\"ENVIRONMENTAL_ISSUE\"]\n",
        "CATEGORIES_TRAIN = CATEGORIES"
      ]
    },
    {
      "cell_type": "code",
      "execution_count": 7,
      "metadata": {
        "id": "ylhojm0iWoUv"
      },
      "outputs": [],
      "source": [
        "## Load prompt for different tasks ##\n",
        "def load_prompt(file_path):\n",
        "    with open(file_path, \"r\") as file:\n",
        "        data = json.load(file)\n",
        "\n",
        "    types =['zs','fs','cot']\n",
        "\n",
        "    prompt_fs = ''\n",
        "    prompt_zs = ''\n",
        "    prompt_cot = ''\n",
        "\n",
        "    choise = 0\n",
        "\n",
        "    for t in types:\n",
        "\n",
        "      l = data[\"prompt\"][t]\n",
        "\n",
        "      if t == 'fs' and (len(l) != 0):\n",
        "          prompt_fs = prompt_fs + l[choise]\n",
        "\n",
        "      elif t == 'zs' and (len(l) != 0):\n",
        "          prompt_zs = prompt_zs + l[choise]\n",
        "\n",
        "      else:\n",
        "          prompt_cot = prompt_cot + l[choise]\n",
        "\n",
        "    return prompt_fs,prompt_zs,prompt_cot\n",
        "\n",
        "\n",
        "## Load examples for few shot and cot tasks ##\n",
        "def load_ex(file_path):\n",
        "  with open(file_path, \"r\") as file:\n",
        "    data = json.load(file)\n",
        "\n",
        "  types =['fs','cot']\n",
        "\n",
        "  examples_fs = []\n",
        "  examples_cot = []\n",
        "\n",
        "  for t in types:\n",
        "\n",
        "    for e in data[\"examples\"][t]:\n",
        "      if t == 'fs':\n",
        "          examples_fs.append(e)\n",
        "\n",
        "      else :\n",
        "          examples_cot.append(e)\n",
        "\n",
        "\n",
        "  return examples_fs,examples_cot"
      ]
    },
    {
      "cell_type": "code",
      "execution_count": 8,
      "metadata": {
        "id": "vuIypw5QrbWx"
      },
      "outputs": [],
      "source": [
        "## Utility function to aggregate the examples defined in the file examples.json ##\n",
        "def take_examples(l,n):\n",
        "  ex = \"\"\n",
        "  for i in range (n):\n",
        "    ex = ex + l[i] + '\\n'\n",
        "  return ex\n",
        "\n",
        "## Utility function to aggregate the chain defined in the file examples.json ##\n",
        "def take_chain(l,n):\n",
        "  ch = \"\"\n",
        "  for i in range(n):\n",
        "    if i == n-1:\n",
        "      ch += l[i] +'\\n'\n",
        "    else:\n",
        "      ch += l[i] + '\\n' + 'Another example, let s think step by step\\n'\n",
        "\n",
        "  return ch"
      ]
    },
    {
      "cell_type": "code",
      "execution_count": 9,
      "metadata": {
        "id": "6YYp5p0jZuGb"
      },
      "outputs": [],
      "source": [
        "## Extract only the payload of the results given by Mistral generation ##\n",
        "def extract_output_from_response(text):\n",
        "  pattern1 = r'\\{\\s*\"span\":\\s*\"[^\"]*\"\\s*,\\s*\"polarity\":\\s*\"[^\"]*\"\\s*,\\s*\"category\":\\s*\"[^\"]*\"\\s*\\}'\n",
        "  matches = re.findall(pattern1, text)\n",
        "\n",
        "  return \"\".join(matches)\n",
        "\n",
        "## Save the results of processed tweets trough Mistral ##\n",
        "def save_results(file_path,results,verbose = True):\n",
        "\n",
        "  with open(file_path, \"a\") as f:\n",
        "      for e in results:\n",
        "        try:\n",
        "\n",
        "          s = e[1]\n",
        "          t = e[0]\n",
        "          #s = extract_output_from_response(s)\n",
        "          s = s.replace(\"\\n\",\"\").replace(\"}{\",\"},{\")\n",
        "          s = '['+ s + ']'\n",
        "          json_lab = json.loads(s)\n",
        "\n",
        "          for i in json_lab:\n",
        "            if i['category'] not in CATEGORIES:\n",
        "              json_lab.remove(i)\n",
        "\n",
        "          d = {\"text\" : t,\n",
        "                \"labels\" : json_lab}\n",
        "\n",
        "\n",
        "          #d_json = json.dumps(d,indent = 4)\n",
        "          d_json = json.dumps(d)\n",
        "\n",
        "          f.write(d_json+'\\n')\n",
        "\n",
        "        except Exception as e:\n",
        "\n",
        "          if verbose:\n",
        "              print(\"Errore nel salvataggio dell' oggetto\")\n",
        "              print(s)\n",
        "\n",
        "          s1 = extract_output_from_response(s)\n",
        "          s1 = s1.replace(\"\\n\",\"\").replace(\"}{\",\"},{\")\n",
        "          s1 = '['+ s1 + ']'\n",
        "          json_lab1 = json.loads(s1)\n",
        "\n",
        "          for i in json_lab1:\n",
        "            if i['category'] not in CATEGORIES:\n",
        "              json_lab1.remove(i)\n",
        "\n",
        "          d1 = {\"text\" : t,\n",
        "                \"labels\" : json_lab1}\n",
        "\n",
        "          #d_json1 = json.dumps(d1, indent = 4)\n",
        "          d_json1 = json.dumps(d1)\n",
        "          f.write(d_json1+'\\n')"
      ]
    },
    {
      "cell_type": "code",
      "execution_count": 10,
      "metadata": {
        "id": "k79cyylk5OwB"
      },
      "outputs": [],
      "source": [
        "## Methods used to add information as start,end position, to the generated example by Mistral ##\n",
        "\n",
        "def find_similar_tokens(text, token, threshold=80):\n",
        "    \"\"\"\n",
        "    Find tokens in the sentence that are similar to the given token.\n",
        "\n",
        "    Args:\n",
        "        text (str): The sentence to search in.\n",
        "        token (str): The token to compare.\n",
        "        threshold (int): The similarity threshold (0-100).\n",
        "\n",
        "    Returns:\n",
        "        List[dict]: A list of dictionaries with `token`, `start`, `end`, and `similarity`.\n",
        "    \"\"\"\n",
        "\n",
        "    words = text.split()\n",
        "    results = ()\n",
        "\n",
        "    start_pos = 0\n",
        "    for word in words:\n",
        "        similarity = fuzz.ratio(word, token)\n",
        "        if similarity >= threshold:\n",
        "            # Trova posizione di inizio e fine\n",
        "            start = text.find(word, start_pos)\n",
        "            end = start + len(word)\n",
        "            results = (start,end)\n",
        "            #results.append({\"token\": word, \"start\": start, \"end\": end, \"similarity\": similarity})\n",
        "        start_pos += len(word) + 1\n",
        "\n",
        "    return results\n",
        "\n",
        "\n",
        "def get_token_indices(text, token):\n",
        "    \"\"\"\n",
        "    Find the start and end positions of all occurrences of a token in a string.\n",
        "\n",
        "    Args:\n",
        "        text (str): The string to search in.\n",
        "        token (str): The token to search for.\n",
        "\n",
        "    Returns:\n",
        "        List[tuple]: A list of tuples (start, end) with the start and end positions.\n",
        "    \"\"\"\n",
        "\n",
        "    indices = []\n",
        "    start = 0\n",
        "\n",
        "    while start < len(text):\n",
        "        start = text.find(token, start)\n",
        "        if start == -1:\n",
        "            break\n",
        "        end = start + len(token)\n",
        "        indices.append((start, end))\n",
        "        start = end\n",
        "\n",
        "    if len(indices) == 0:\n",
        "        t_n = find_similar_tokens(text, token, threshold=80)\n",
        "        indices.append(t_n)\n",
        "\n",
        "    return indices\n",
        "\n",
        "## Add offset info to the generated response ##\n",
        "def add_start_end_offset(data):\n",
        "    text = data[\"text\"]\n",
        "    for label in data[\"labels\"]:\n",
        "            if label != None:\n",
        "                span = label[\"span\"]\n",
        "                span_indices = get_token_indices(text, span)\n",
        "                if span_indices[0] != ():\n",
        "                  label[\"start\"] = span_indices[0][0]\n",
        "                  label[\"end\"] = span_indices[0][1]\n",
        "                else:\n",
        "                  label[\"start\"] = -1\n",
        "                  label[\"end\"] = -1\n",
        "\n",
        "    return data\n",
        "\n",
        "## Save the final dataset after add offset info ##\n",
        "def save_offset_data(src,dst = TRAIN_TEST_FOLDER):\n",
        "  data_offset = []\n",
        "\n",
        "  with open(src, 'r') as f:\n",
        "      for line in f:\n",
        "          data = json.loads(line)\n",
        "          add_start_end_offset(data)\n",
        "          data_offset.append(data)\n",
        "\n",
        "  p_file = os.path.join(TRAIN_TEST_FOLDER,'ABSA_dataset.jsonl')\n",
        "\n",
        "  os.makedirs(os.path.dirname(p_file), exist_ok=True)\n",
        "\n",
        "  with open(p_file, 'w') as f:\n",
        "    for data in data_offset:\n",
        "      filtered_data = {\n",
        "          \"text\": data[\"text\"],\n",
        "          \"labels\": [label for label in data[\"labels\"] if (label != None) or (label[\"start\"] != -1)]\n",
        "      }\n",
        "      f.write(json.dumps(filtered_data) + '\\n')"
      ]
    },
    {
      "cell_type": "code",
      "execution_count": 11,
      "metadata": {
        "id": "BY8ZTXdEnAtb"
      },
      "outputs": [],
      "source": [
        "def clean_split_results(src_f, train_f, test_f, val_f, categories = CATEGORIES_TRAIN, train_ratio=0.8, val_ratio=0.1):\n",
        "    \"\"\"\n",
        "    Cleans the JSON lines in the source file, splitting them into train, test, and validation files.\n",
        "    Lines with an empty `labels` list are not saved.\n",
        "\n",
        "    Args:\n",
        "        src_f (str): Path to the source file.\n",
        "        train_f (str): Path to the output file for the train set.\n",
        "        test_f (str): Path to the output file for the test set.\n",
        "        val_f (str): Path to the output file for the validation set.\n",
        "        categories (list): List of allowed categories.\n",
        "        train_ratio (float): Percentage of lines to include in the train set (default 80%).\n",
        "        val_ratio (float): Percentage of lines to include in the validation set (default 10%).\n",
        "\n",
        "    Returns:\n",
        "        tuple: Three lists containing the data for the train set, validation set, and test set, respectively.\n",
        "    \"\"\"\n",
        "\n",
        "    train_data = []\n",
        "    test_data = []\n",
        "    val_data = []\n",
        "\n",
        "    with open(src_f, 'r') as f, open(train_f, 'w') as f_train, open(test_f, 'w') as f_test, open(val_f, 'w') as f_val:\n",
        "        for line in f:\n",
        "            data = json.loads(line.strip())\n",
        "\n",
        "\n",
        "            if \"labels\" in data and isinstance(data[\"labels\"], list):\n",
        "\n",
        "                data[\"labels\"] = [item for item in data[\"labels\"] if item.get(\"category\") in categories]\n",
        "\n",
        "\n",
        "            if data.get(\"labels\"):\n",
        "                rand = random.random()\n",
        "                if rand < train_ratio:\n",
        "                    train_data.append(data)\n",
        "                    f_train.write(json.dumps(data) + '\\n')\n",
        "                elif rand < train_ratio + val_ratio:\n",
        "                    val_data.append(data)\n",
        "                    f_val.write(json.dumps(data) + '\\n')\n",
        "                else:\n",
        "                    test_data.append(data)\n",
        "                    f_test.write(json.dumps(data) + '\\n')\n",
        "\n",
        "    return train_data, val_data, test_data\n"
      ]
    },
    {
      "cell_type": "code",
      "execution_count": 12,
      "metadata": {
        "id": "kti4MC98_avO"
      },
      "outputs": [],
      "source": [
        "## For each category print the number of occurences in the dataset ##\n",
        "\n",
        "def category_counter(cat,file_path):\n",
        "  category_counter = Counter()\n",
        "\n",
        "  with open(file_path, \"r\", encoding=\"utf-8\") as f:\n",
        "      for line in f:\n",
        "          data = json.loads(line.strip())\n",
        "\n",
        "          if \"labels\" in data and isinstance(data[\"labels\"], list):\n",
        "              for label in data[\"labels\"]:\n",
        "                  if isinstance(label, dict):\n",
        "                      if cat == 'cat':\n",
        "                        category = label.get(\"category\", None)\n",
        "                      else:\n",
        "                        category = label.get(\"polarity\", None)\n",
        "                      if isinstance(category, str):\n",
        "                          category_counter[category] += 1\n",
        "\n",
        "  sorted_categories = category_counter.most_common()\n",
        "  return sorted_categories"
      ]
    },
    {
      "cell_type": "code",
      "execution_count": 13,
      "metadata": {
        "id": "TPkdJ6q4ZDEs"
      },
      "outputs": [],
      "source": [
        "## Tag the token with I B method ##\n",
        "\n",
        "def get_token_role_in_span(token_start, token_end, span_start, span_end):\n",
        "    \"\"\"\n",
        "    Check if the token is inside a span.\n",
        "    Args:\n",
        "      - token_start, token_end: Start and end offset of the token\n",
        "      - span_start, span_end: Start and end of the span\n",
        "    Returns:\n",
        "      - \"B\" if beginning\n",
        "      - \"I\" if inner\n",
        "      - \"O\" if outer\n",
        "      - \"N\" if not valid token (like <SEP>, <CLS>, <UNK>)\n",
        "    \"\"\"\n",
        "    if token_end <= token_start:\n",
        "        return \"N\"\n",
        "    if token_start < span_start or token_end > span_end:\n",
        "        return \"O\"\n",
        "    if token_start > span_start:\n",
        "        return \"I\"\n",
        "    else:\n",
        "        return \"B\""
      ]
    },
    {
      "cell_type": "code",
      "execution_count": 14,
      "metadata": {
        "id": "tIxIxfiOZc5G"
      },
      "outputs": [],
      "source": [
        "## Print the token-labels info for each token ##\n",
        "\n",
        "def control_output(sample,label,d,tokenizer):\n",
        "  print(\"--------Token---------|--------Labels----------\")\n",
        "  for token_id, token_labels in zip(sample[\"input_ids\"], sample[label]):\n",
        "      # Decode the token_id into text\n",
        "      token_text = tokenizer.decode(token_id)\n",
        "      if token_text == '</s>':\n",
        "        break\n",
        "\n",
        "      # Retrieve all the indices corresponding to the \"1\" at each token, decode them to label name\n",
        "      labels = [d[label_index] for label_index, value in enumerate(token_labels) if value==1]\n",
        "\n",
        "      # Decode those indices into label name\n",
        "      print(f\" {token_text:20} | {labels}\")\n",
        "      # Finish when we meet the end of sentence."
      ]
    },
    {
      "cell_type": "code",
      "execution_count": 15,
      "metadata": {
        "id": "jltKlHJSzZyJ"
      },
      "outputs": [],
      "source": [
        "def control_count_output_aggregated(samples, label, d, tokenizer):\n",
        "    \"\"\"\n",
        "    Prints the tokens and associated labels for each example, and computes the aggregated sum of label occurrences.\n",
        "\n",
        "    Args:\n",
        "        - samples (list[dict]): List of dictionaries, each representing an example.\n",
        "        - label (str): Name of the key in the dictionaries that contains the labels.\n",
        "        - d (dict): Dictionary mapping indices to labels.\n",
        "        - tokenizer: Tokenizer used to decode the token IDs.\n",
        "\n",
        "    Returns:\n",
        "        - aggregated_counts (dict): Dictionary with the sum of occurrences for each label.\n",
        "    \"\"\"\n",
        "\n",
        "    aggregated_counts = {label_name: 0 for label_name in d.values()}  # Inizializza il conteggio aggregato\n",
        "    total_occurrences = 0\n",
        "\n",
        "    for sample_idx, sample in enumerate(samples):\n",
        "        # Contatori per l'esempio corrente\n",
        "        example_counts = {label_name: 0 for label_name in d.values()}\n",
        "\n",
        "        #print(f\"\\nEsempio {sample_idx + 1}\")\n",
        "        #print(\"--------Token---------|--------Labels----------\")\n",
        "        for token_id, token_labels in zip(sample[\"input_ids\"], sample[label]):\n",
        "            # Decodifica il token_id in testo\n",
        "            token_text = tokenizer.decode([token_id]).strip()\n",
        "            if token_text == '</s>':\n",
        "                break\n",
        "\n",
        "            # Recupera gli indici con valore \"1\" e decodifica in nomi di etichette\n",
        "            labels = [d[label_index] for label_index, value in enumerate(token_labels) if value == 1]\n",
        "\n",
        "            # Incrementa il conteggio delle etichette per l'esempio corrente\n",
        "            for label_name in labels:\n",
        "                example_counts[label_name] += 1\n",
        "\n",
        "            # Stampa il token e le sue etichette\n",
        "            #print(f\" {token_text:20} | {labels}\")\n",
        "\n",
        "        # Stampa il conteggio per l'esempio corrente\n",
        "        # print(\"\\n--------Label Occurrences for Example----------\")\n",
        "        # for label_name, count in example_counts.items():\n",
        "        #     print(f\"{label_name:20} : {count}\")\n",
        "\n",
        "        # Aggiungi i conteggi dell'esempio corrente a quelli aggregati\n",
        "        for label_name, count in example_counts.items():\n",
        "            aggregated_counts[label_name] += count\n",
        "            total_occurrences += count\n",
        "\n",
        "    # Stampa i conteggi aggregati per tutti gli esempi\n",
        "    # print(\"\\n--------Aggregated Label Occurrences----------\")\n",
        "    # for label_name, count in aggregated_counts.items():\n",
        "    #     print(f\"{label_name:20} : {count}\")\n",
        "\n",
        "    return aggregated_counts, total_occurrences\n"
      ]
    },
    {
      "cell_type": "code",
      "execution_count": 16,
      "metadata": {
        "id": "4KbP00BSVlO1"
      },
      "outputs": [],
      "source": [
        "## Methods used to calculate weights to use later with the Focal Loss, due to the class imbalance ##\n",
        "def count_categories(d):\n",
        "  n = 0\n",
        "  for e, c in d:\n",
        "    n += c\n",
        "  return n\n",
        "\n",
        "def compute_weights(n,d):\n",
        "  dw = {}\n",
        "  for e,c in d.items():\n",
        "    w = np.log(1 + (n/c))\n",
        "    dw[e] = w\n",
        "\n",
        "  return dw\n",
        "\n",
        "def assign_weights(id2tag,d):\n",
        "    w = []\n",
        "    for k,v in id2tag.items():\n",
        "        w.append(d[v])\n",
        "    return w"
      ]
    },
    {
      "cell_type": "code",
      "execution_count": 17,
      "metadata": {
        "id": "nwsCcXHgWRU8"
      },
      "outputs": [],
      "source": [
        "## Function to manage overlapping spans and prioritize sentiment ##\n",
        "\n",
        "def handle_overlapping_spans(token_start, token_end, sample_labels):\n",
        "        \"\"\" Returns the final sentiment label for overlapping spans \"\"\"\n",
        "        sentiments = set()\n",
        "        for span in sample_labels:\n",
        "            if span is None or span.get('polarity') is None:\n",
        "                continue\n",
        "\n",
        "            if span['start'] <= token_end and span['end'] >= token_start:\n",
        "                sentiments.add(span['polarity'])\n",
        "\n",
        "        if \"negative\" in sentiments:\n",
        "            return \"negative\"\n",
        "        elif \"positive\" in sentiments:\n",
        "            return \"positive\"\n",
        "        elif \"neutral\" in sentiments:\n",
        "            return \"neutral\"\n",
        "        return None"
      ]
    },
    {
      "cell_type": "code",
      "execution_count": 18,
      "metadata": {
        "id": "Yuq7BiBhWdXZ"
      },
      "outputs": [],
      "source": [
        "## Used to find the examples with overlapping spans ##\n",
        "\n",
        "def find_overlapping_spans(ds):\n",
        "    idx = []\n",
        "    c = 0\n",
        "    for sample in ds:\n",
        "        matrix = np.array(sample['labels_cat'])\n",
        "        r = np.where(matrix.sum(axis=1) >= 2)[0]\n",
        "        if r.size > 0:\n",
        "            idx.append(c)\n",
        "        c +=1\n",
        "    return idx"
      ]
    },
    {
      "cell_type": "code",
      "execution_count": 169,
      "metadata": {
        "id": "da5KIY0bdBBr"
      },
      "outputs": [],
      "source": [
        "## Save the metrics in a new format ##\n",
        "\n",
        "def partition_results(results):\n",
        "    partitioned_results = {\n",
        "        \"task1\": {},\n",
        "        \"task2\": {},\n",
        "        \"overall\": {},\n",
        "        \"performance\": {},\n",
        "        \"categories_metrics\": {},\n",
        "        \"categories_metrics_aggregated\": {},\n",
        "        \"sentiment_metrics\" : {}\n",
        "    }\n",
        "\n",
        "    for key, value in results.items():\n",
        "        if key.startswith(\"test_overall\") :\n",
        "            partitioned_results[\"overall\"][key] = value\n",
        "        elif \"task1\" in key:\n",
        "            partitioned_results[\"task1\"][key] = value\n",
        "        elif \"task2\" in key:\n",
        "            partitioned_results[\"task2\"][key] = value\n",
        "        elif \"comb\" in key and \"f1\" in key:\n",
        "            partitioned_results[\"categories_metrics_aggregated\"][key] = value\n",
        "        elif \"test_f1_B\" in key or \"test_f1_I\" in key:\n",
        "            partitioned_results[\"categories_metrics\"][key] = value\n",
        "        elif \"negative\" in key or \"positive\" in key or \"neutral\" in key:\n",
        "            partitioned_results[\"sentiment_metrics\"][key] = value\n",
        "        elif key in [\"test_loss\", \"test_runtime\", \"test_samples_per_second\", \"test_steps_per_second\"]:\n",
        "            partitioned_results[\"performance\"][key] = value\n",
        "\n",
        "    return partitioned_results"
      ]
    },
    {
      "cell_type": "code",
      "execution_count": 20,
      "metadata": {
        "id": "eIvGsNz4dB1B"
      },
      "outputs": [],
      "source": [
        "## Save model metrics ##\n",
        "def save_metrics_to_file(results, file_path):\n",
        "    \"\"\"\n",
        "    Salva i risultati su un file JSON.\n",
        "    \"\"\"\n",
        "    with open(file_path, \"w\") as f:\n",
        "        json.dump(results, f, indent = 4)\n",
        "    print(f\"Risultati salvati in {file_path}\")\n",
        "\n",
        "## Load model metrics from file ##\n",
        "def load_metrics_from_file(file_path):\n",
        "    \"\"\"\n",
        "    Carica i risultati da un file JSON.\n",
        "    \"\"\"\n",
        "    if not os.path.exists(file_path):\n",
        "        raise FileNotFoundError(f\"Il file {file_path} non esiste!\")\n",
        "    with open(file_path, \"r\") as f:\n",
        "        results = json.load(f)\n",
        "    return results"
      ]
    },
    {
      "cell_type": "code",
      "execution_count": 21,
      "metadata": {
        "id": "Kytl_-hUdT3D"
      },
      "outputs": [],
      "source": [
        "## Plot Macro metrics ##\n",
        "\n",
        "def plot_metrics(data, output_file=None):\n",
        "    macro_scores = {\n",
        "        \"Task1 Macro F1\": data[\"task1\"][\"test_macro_f1_task1\"],\n",
        "        \"Task2 Macro F1\": data[\"task2\"][\"test_macro_f1_task2\"],\n",
        "        \"Overall Macro F1\": data[\"overall\"][\"test_overall_macro_f1\"],\n",
        "        \"Task1 Macro Precision\": data[\"task1\"][\"test_macro_precision_task1\"],\n",
        "        \"Task2 Macro Precision\": data[\"task2\"][\"test_macro_precision_task2\"],\n",
        "        \"Overall Macro Precision\": data[\"overall\"][\"test_overall_macro_precision\"],\n",
        "        \"Task1 Macro Recall\": data[\"task1\"][\"test_macro_recall_task1\"],\n",
        "        \"Task2 Macro Recall\": data[\"task2\"][\"test_macro_recall_task2\"],\n",
        "        \"Overall Macro Recall\": data[\"overall\"][\"test_overall_macro_recall\"]\n",
        "    }\n",
        "\n",
        "    fig, axes = plt.subplots(1, 3, figsize=(15, 6))\n",
        "    metrics = [\"F1\", \"Precision\", \"Recall\"]\n",
        "\n",
        "    for i, metric in enumerate(metrics):\n",
        "        axes[i].bar([\"Task1\", \"Task2\", \"Overall\"],\n",
        "                       [macro_scores[f\"Task1 Macro {metric}\"],\n",
        "                        macro_scores[f\"Task2 Macro {metric}\"],\n",
        "                        macro_scores[f\"Overall Macro {metric}\"]],\n",
        "                       color=['skyblue', 'orange', 'green'], width=0.5, edgecolor=\"black\")\n",
        "        axes[i].set_title(f\"Macro {metric} Scores\")\n",
        "        axes[i].set_ylim(0, 1)\n",
        "\n",
        "    plt.tight_layout()\n",
        "    if output_file:\n",
        "        plt.savefig(output_file)\n",
        "    plt.show()"
      ]
    },
    {
      "cell_type": "code",
      "execution_count": 183,
      "metadata": {
        "id": "b95ab6sknaDl"
      },
      "outputs": [],
      "source": [
        "## Plot F1 for each categories in task1 ##\n",
        "\n",
        "def plot_f1_categories(data, aggregated = True, output_file = None):\n",
        "  if aggregated:\n",
        "    categories_metrics = data[\"categories_metrics_aggregated\"]\n",
        "  else:\n",
        "    categories_metrics = data[\"categories_metrics\"]\n",
        "\n",
        "  categories = list(categories_metrics.keys())\n",
        "  values = list(categories_metrics.values())\n",
        "\n",
        "  base_colors = ['skyblue', 'lightgreen', 'coral', 'plum', 'gold', 'lightpink', 'gray']\n",
        "\n",
        "  if aggregated:\n",
        "    colors = base_colors\n",
        "  else:\n",
        "    colors = []\n",
        "    for i, category in enumerate(categories):\n",
        "        color = base_colors[i // 2 % len(base_colors)]\n",
        "        colors.append(color)\n",
        "\n",
        "  plt.figure(figsize=(14, 6))\n",
        "  plt.bar(categories, values, color=colors, edgecolor=\"black\")\n",
        "  plt.xticks(rotation=45, ha=\"right\", fontsize=10)\n",
        "  plt.ylabel(\"F1 Score\", fontsize=12)\n",
        "  plt.xlabel(\"Metrics\", fontsize=12)\n",
        "  plt.title(\"F1 Scores by Category\", fontsize=14)\n",
        "  plt.tight_layout()\n",
        "\n",
        "  if output_file:\n",
        "      plt.savefig(output_file)\n",
        "\n",
        "  plt.show()"
      ]
    },
    {
      "cell_type": "code",
      "execution_count": 23,
      "metadata": {
        "id": "-vDNw563ZiSh"
      },
      "outputs": [],
      "source": [
        "## Plot the distribution of class ##\n",
        "def plot_stratified_split(d,color,name):\n",
        "  d_cat_count = {k: v for k, v in d}\n",
        "\n",
        "  categories = d_cat_count.keys()\n",
        "  occurrences = d_cat_count.values()\n",
        "\n",
        "  plt.figure(figsize=(14, 5))\n",
        "  plt.barh(categories, occurrences, color=color, edgecolor=\"black\")\n",
        "  plt.xlabel(\"Occurrences\", fontsize=12)\n",
        "  plt.ylabel(\"Categories\", fontsize=12)\n",
        "  plt.title(f\"Distribution of Categories {name}\", fontsize=14)\n",
        "  plt.gca().invert_yaxis()\n",
        "  plt.tight_layout()\n",
        "\n",
        "  plt.show()\n"
      ]
    },
    {
      "cell_type": "code",
      "execution_count": 24,
      "metadata": {
        "id": "e6kM_VxudrbX"
      },
      "outputs": [],
      "source": [
        "def get_offsets_and_predicted_tags(example: str, model, tokenizer, threshold= 0.5):\n",
        "    \"\"\"\n",
        "    Get prediction of model on example, using tokenizer\n",
        "    Args:\n",
        "      - example (str): The input text\n",
        "      - model: The span categorizer\n",
        "      - tokenizer: The tokenizer\n",
        "      - threshold: The threshold to decide whether the token should belong to the label. Default to 0, which corresponds to probability 0.5.\n",
        "    Returns:\n",
        "      - List of dictionaries with token, tags, polarity, and offset for each token.\n",
        "    \"\"\"\n",
        "    raw_encoded_example = tokenizer(\n",
        "        example, return_offsets_mapping=True, truncation=True, padding=False\n",
        "    )\n",
        "    encoded_example = tokenizer(\n",
        "        example, return_tensors=\"pt\", truncation=True, padding=False\n",
        "    )\n",
        "\n",
        "    with torch.no_grad():\n",
        "        outputs = model(**encoded_example)\n",
        "\n",
        "    logits_cat, logits_pol = outputs[\"logits\"]\n",
        "\n",
        "    logits_cat = torch.sigmoid(torch.squeeze(logits_cat,0))\n",
        "    logits_pol = torch.sigmoid(torch.squeeze(logits_pol,0))\n",
        "\n",
        "    predicted_tags_cat = (logits_cat > threshold).nonzero(as_tuple=False).tolist()\n",
        "    predicted_tags_pol = (logits_pol > threshold).nonzero(as_tuple=False).tolist()\n",
        "\n",
        "    tokens = tokenizer.batch_decode(encoded_example[\"input_ids\"][0], skip_special_tokens=True)\n",
        "    offsets = raw_encoded_example[\"offset_mapping\"]\n",
        "\n",
        "    result = []\n",
        "\n",
        "    for token, offset in zip(tokens, offsets):\n",
        "        cat_tags = [tag for tag in predicted_tags_cat if tag[0] == tokens.index(token)]\n",
        "        pol_tags = [tag for tag in predicted_tags_pol if tag[0] == tokens.index(token)]\n",
        "\n",
        "        result.append({\n",
        "            \"token\": token,\n",
        "            \"categories\": [tag[1] for tag in cat_tags],\n",
        "            \"polarities\": [tag[1] for tag in pol_tags],\n",
        "            \"offset\": offset,\n",
        "        })\n",
        "\n",
        "    return result"
      ]
    },
    {
      "cell_type": "markdown",
      "metadata": {
        "id": "Iu5yf3ddbxFv"
      },
      "source": [
        "# Prompt and examples"
      ]
    },
    {
      "cell_type": "markdown",
      "metadata": {
        "id": "GzmCZFf6nAte"
      },
      "source": [
        "Define the prompts and examples for:\n",
        "- Few Shots Prompt;\n",
        "- Zero Shot Prompt;\n",
        "- Chain of Thought;"
      ]
    },
    {
      "cell_type": "code",
      "execution_count": null,
      "metadata": {
        "id": "wN-EToqybxFy"
      },
      "outputs": [],
      "source": [
        "ex1 = '**Text**: At the United Nations Climate Change Conference, policy makers unveiled new strategies aimed at reducing carbon emissions and promoting green energy solutions for future generations.\\n\\\n",
        "**Output**: {\"span\": \"United Nations Climate Change Conference\", \"polarity\": \"neutral\", \"category\": \"CONFERENCE\"},\\\n",
        "{\"span\": \"policy makers\", \"polarity\": \"neutral\", \"category\": \"STAKEHOLDER\"},\\\n",
        "{\"span\": \"policy makers unveiled new strategies aimed at reducing carbon emissions and promoting green energy solutions\", \"polarity\": \"positive\", \"category\": \"POLICIES_AND_STRATEGIES\"},\\\n",
        "{\"span\": \"carbon emissions\", \"polarity\": \"positive\", \"category\": \"ENVIRONMENTAL_ISSUE\"},\\\n",
        "{\"span\": \"green energy solutions\", \"polarity\": \"positive\", \"category\": \"GREEN_ENERGY\"}'"
      ]
    },
    {
      "cell_type": "code",
      "execution_count": null,
      "metadata": {
        "id": "_d1SWk7XbxF0"
      },
      "outputs": [],
      "source": [
        "ex2 = '**Text**: The government of Norway has proposed a policy to increase investments in carbon capture technologies to combat climate change and ensure long-term sustainability.\\n\\\n",
        "**Output**: {\"span\": \"government of Norway\", \"polarity\": \"neutral\", \"category\": \"STAKEHOLDER\"},\\\n",
        "{\"span\": \"proposed a policy to increase investments in carbon capture technologies\", \"polarity\": \"positive\", \"category\": \"POLICIES_AND_STRATEGIES\"},\\\n",
        "{\"span\": \"carbon capture technologies\", \"polarity\": \"positive\", \"category\": \"GREEN_ENERGY\"},\\\n",
        "{\"span\": \"climate change\", \"polarity\": \"negative\", \"category\": \"ENVIRONMENTAL_ISSUE\"},\\\n",
        "{\"span\": \"long-term sustainability\", \"polarity\": \"positive\", \"category\": \"SUSTAINABILITY\"}'"
      ]
    },
    {
      "cell_type": "code",
      "execution_count": null,
      "metadata": {
        "id": "fyePUq41bxF2"
      },
      "outputs": [],
      "source": [
        "ex3 = '**Text**: During the Paris Climate Agreement, world leaders discussed the urgent need to implement more ambitious policies to transition to renewable energy and safeguard the environment.\\n\\\n",
        "**Output**: {\"span\": \"Paris Climate Agreement\", \"polarity\": \"neutral\", \"category\": \"CONFERENCE\"},\\\n",
        "{\"span\": \"world leaders\", \"polarity\": \"neutral\", \"category\": \"STAKEHOLDER\"},\\\n",
        "{\"span\": \"world leaders discussed the urgent need to implement more ambitious policies to transition to renewable energy\", \"polarity\": \"positive\", \"category\": \"POLICIES_AND_STRATEGIES\"},\\\n",
        "{\"span\": \"transition to renewable energy\", \"polarity\": \"positive\", \"category\": \"GREEN_ENERGY\"},\\\n",
        "{\"span\": \"safeguard the environment\", \"polarity\": \"positive\", \"category\": \"SUSTAINABILITY\"}'"
      ]
    },
    {
      "cell_type": "code",
      "execution_count": null,
      "metadata": {
        "id": "6l2uf7rjbxF4"
      },
      "outputs": [],
      "source": [
        "ex4 = '**Text**: The new report from the IPCC outlines strategies for reducing global warming by investing in clean technologies, reducing emissions, and promoting sustainable practices.\\n\\\n",
        "**Output**: {\"span\": \"IPCC\", \"polarity\": \"neutral\", \"category\": \"ORGANIZATION\"},\\\n",
        "{\"span\": \"strategies for reducing global warming\", \"polarity\": \"positive\", \"category\": \"POLICIES_AND_STRATEGIES\"},\\\n",
        "{\"span\": \"global warming\", \"polarity\": \"negative\", \"category\": \"ENVIRONMENTAL_ISSUE\"},\\\n",
        "{\"span\": \"clean technologies\", \"polarity\": \"positive\", \"category\": \"GREEN_ENERGY\"},\\\n",
        "{\"span\": \"reducing emissions\", \"polarity\": \"positive\", \"category\": \"ENVIRONMENTAL_ISSUE\"},\\\n",
        "{\"span\": \"promoting sustainable practices\", \"polarity\": \"positive\", \"category\": \"SUSTAINABILITY\"}'"
      ]
    },
    {
      "cell_type": "code",
      "execution_count": null,
      "metadata": {
        "id": "OdRr6RydbxF6"
      },
      "outputs": [],
      "source": [
        "ex5 = '**Text**: The transition to renewable energy in countries like Germany and Denmark is being supported by advanced solar technologies and government-backed green energy policies.\\n\\\n",
        "**Output**: {\"span\": \"transition to renewable energy\", \"polarity\": \"positive\", \"category\": \"SUSTAINABILITY\"},\\\n",
        "{\"span\": \"renewable energy\", \"polarity\": \"neutral\", \"category\": \"GREEN_ENERGY\"},\\\n",
        "{\"span\": \"advanced solar technologies\", \"polarity\": \"positive\", \"category\": \"GREEN_ENERGY\"},\\\n",
        "{\"span\": \"government-backed\", \"polarity\": \"positive\", \"category\": \"STAKEHOLDER\"},\\\n",
        "{\"span\": \"government-backed green energy policies\", \"polarity\": \"positive\", \"category\": \"POLICIES_AND_STRATEGIES\"}'"
      ]
    },
    {
      "cell_type": "code",
      "execution_count": null,
      "metadata": {
        "id": "fXvyLwuVDNny"
      },
      "outputs": [],
      "source": [
        "ex6 = '**Text**: Tesla, led by Elon Musk, is playing a pivotal role in promoting the global adoption of electric vehicles, while organizations like Greenpeace advocate for stronger environmental policies worldwide.\\n\\\n",
        "**Output**: {\"span\": \"Tesla\", \"polarity\": \"positive\", \"category\": \"ORGANIZATION\"},\\\n",
        "{\"span\": \"Elon Musk\", \"polarity\": \"positive\", \"category\": \"STAKEHOLDER\"},\\\n",
        "{\"span\": \"promoting the global adoption of electric vehicles\", \"polarity\": \"positive\", \"category\": \"SUSTAINABILITY\"},\\\n",
        "{\"span\": electric vehicles\", \"polarity\": \"positive\", \"category\": \"GREEN_ENERGY\"},\\\n",
        "{\"span\": \"Greenpeace\", \"polarity\": \"positive\", \"category\": \"ORGANIZATION\"},\\\n",
        "{\"span\": \"stronger environmental policies\", \"polarity\": \"positive\", \"category\": \"POLICIES_AND_STRATEGIES\"}'"
      ]
    },
    {
      "cell_type": "code",
      "execution_count": null,
      "metadata": {
        "id": "S9zuWQPUEOy1"
      },
      "outputs": [],
      "source": [
        "ex7 = '**Text**: The Bill and Melinda Gates Foundation, spearheaded by Bill Gates, has significantly contributed to combating global health crises, while the UN supports these efforts through international partnerships.\\n\\\n",
        "**Output**: {\"span\": \"Bill and Melinda Gates Foundation\", \"polarity\": \"positive\", \"category\": \"ORGANIZATION\"},\\\n",
        "{\"span\": \"Bill Gates\", \"polarity\": \"positive\", \"category\": \"STAKEHOLDER\"},\\\n",
        "{\"span\": \"combating global health crises\", \"polarity\": \"positive\", \"category\": \"SUSTAINABILITY\"},\\\n",
        "{\"span\": \"global health crises\", \"polarity\": \"negative\", \"category\": \"ENVIRONMENTAL_ISSUE\"},\\\n",
        "{\"span\": \"UN\", \"polarity\": \"positive\", \"category\": \"ORGANIZATION\"},\\\n",
        "{\"span\": \"UN supports these efforts through international partnerships\", \"polarity\": \"positive\", \"category\": \"POLICIES_AND_STRATEGIES\"}'"
      ]
    },
    {
      "cell_type": "code",
      "execution_count": null,
      "metadata": {
        "id": "6b3WKNPyPQ2t"
      },
      "outputs": [],
      "source": [
        "ex8 = '**Text**: During COP28,located in Dubai, António Guterres urged world leaders and organizations like Greenpeace to accelerate climate action, emphasizing the importance of renewable energy and phasing out fossil fuels.\\n\\\n",
        "**Output**: {\"span\": \"COP28\", \"polarity\": \"neutral\", \"category\": \"CONFERENCE\"},\\\n",
        "{\"span\": \"António Guterres\", \"polarity\": \"positive\", \"category\": \"STAKEHOLDER\"},\\\n",
        "{\"span\": \"world leaders\", \"polarity\": \"neutral\", \"category\": \"STAKEHOLDER\"},\\\n",
        "{\"span\": \"Greenpeace\", \"polarity\": \"positive\", \"category\": \"ORGANIZATION\"},\\\n",
        "{\"span\": \"climate action\", \"polarity\": \"positive\", \"category\": \"SUSTAINABILITY\"},\\\n",
        "{\"span\": \"renewable energy\", \"polarity\": \"positive\", \"category\": \"GREEN_ENERGY\"},\\\n",
        "{\"span\": \"phasing out fossil fuels\", \"polarity\": \"positive\", \"category\": \"ENVIRONMENTAL_ISSUES\"},\\\n",
        "{\"span\": \"António Guterres urged world leaders and organizations like Greenpeace\", \"polarity\": \"positive\", \"category\": \"POLICIES_AND_STRATEGIES\"}'"
      ]
    },
    {
      "cell_type": "code",
      "execution_count": null,
      "metadata": {
        "id": "j_H9HhauxALa"
      },
      "outputs": [],
      "source": [
        "ex9 = '**Text**: At COP28, critics accused certain governments, such as Brazil and Australia, of failing to meet their climate pledges, citing continued deforestation and coal mining activities.\\n\\\n",
        "**Output**: {\"span\": \"COP28\", \"polarity\": \"neutral\", \"category\": \"CONFERENCE\"},\\\n",
        "{\"span\": \"certain governments\", \"polarity\": \"negative\", \"category\": \"STAKEHOLDER\"},\\\n",
        "{\"span\": \"failing to meet their climate pledges\", \"polarity\": \"negative\", \"category\": \"POLICIES_AND_STRATEGIES\"},\\\n",
        "{\"span\": \"continued deforestation and coal mining activities\", \"polarity\": \"negative\", \"category\": \"ENVIRONMENTAL_ISSUE\"}'"
      ]
    },
    {
      "cell_type": "code",
      "execution_count": null,
      "metadata": {
        "id": "_uqEh2pCx7v_"
      },
      "outputs": [],
      "source": [
        "ex10 = '**Text**: Despite the promises made at COP28, corporations like Chevron and Shell faced backlash for lobbying against stricter climate regulations, which activists argue undermines global efforts to combat climate change.\\n\\\n",
        "**Output**: {\"span\": \"COP28\", \"polarity\": \"neutral\", \"category\": \"CONFERENCE\"},\\\n",
        "{\"span\": \"corporations like Chevron and Shell\", \"polarity\": \"negative\", \"category\": \"ORGANIZATION\"},\\\n",
        "{\"span\": \"Chevron\", \"polarity\": \"negative\", \"category\": \"ORGANIZATION\"},\\\n",
        "{\"span\": \"Shell\", \"polarity\": \"negative\", \"category\": \"ORGANIZATION\"},\\\n",
        "{\"span\": \"lobbying against stricter climate regulations\", \"polarity\": \"negative\", \"category\": \"POLICIES_AND_STRATEGIES\"},\\\n",
        "{\"span\": \"activists\", \"polarity\": \"neutral\", \"category\": \"STAKEHOLDER\"},\\\n",
        "{\"span\": \"undermines global efforts to combat climate change\", \"polarity\": \"negative\", \"category\": \"ENVIRONMENTAL_ISSUE\"},\\\n",
        "{\"span\": \"climate change\", \"polarity\": \"negative\", \"category\": \"ENVIRONMENTAL_ISSUE\"}'\n"
      ]
    },
    {
      "cell_type": "code",
      "execution_count": null,
      "metadata": {
        "id": "Bb27BL52bxF7"
      },
      "outputs": [],
      "source": [
        "chain = '**Example Walkthrough**:\\n\\\n",
        "\\n\\\n",
        "**Text**:\\n\\\n",
        "\"At the #COP28 summit in #Dubai, global leaders from around the world, and various organizations, like Greenpeace, came together to discuss innovative #GreenEnergy solutions. They emphasized the importance of #Technology, like AI-driven carbon capture systems, in combating #ClimateChange. Several key #Stakeholders, including @ElonMusk and @BillGates, presented strategies for mitigating the impact of deforestation and promoting #Sustainability. The role of governments in regulating industries was also debated, with action plans for #EnergyTransition already in place. The focus is clear: reduce emissions and protect the environment for future generations.\"\\n\\\n",
        "\\n\\\n",
        "**STEP 1**: Identify the main spans in the text, including overlapping spans:\\n\\\n",
        "The spans found are:\\n\\\n",
        "\"#COP28\",\"Greenpeace\",\"global leaders\", \"@ElonMusk\", \"@BillGates\", \"innovative #GreenEnergy solutions\", \"#GreenEnergy\", \"AI-driven carbon capture systems\", \"#ClimateChange\",\"presented strategies for mitigating the impact of deforestation\", \"deforestation\", \"#Sustainability\", \"governments\", \"regulating industries\", \"#EnergyTransition\", \"reduce emissions\", \"protect the environment\".\\n\\\n",
        "\\n\\\n",
        "Note:\\n\\\n",
        "There are overlapping spans, that belongs to different categories:\\n\\\n",
        "- \"innovative #GreenEnergy solutions\" overlaps with \"#GreenEnergy\" (the first belongs to category \"POLICIES_AND_STRATEGIES\", and the latter belongs to \"GREEN_ENERGY\").\\n\\\n",
        "- \"deforestation\" overlaps with \"presented strategies for mitigating the impact of deforestation\" (deforestation belongs to category \"ENVIRONMENTAL_ISSUE\", and  the latter belongs to \"POLICIES_AND_STRATEGIES\").\\n\\\n",
        "\\n\\\n",
        "**STEP 2**: Classify the polarity of each span:\\n\\\n",
        "- \"#COP28\" - neutral (conference reference);\\n\\\n",
        "- \"GreenPeace\" - neutral (organization);\\n\\\n",
        "- \"global leaders\" - neutral (description of stakeholders);\\n\\\n",
        "- \"@ElonMusk\" - neutral (individual stakeholder);\\n\\\n",
        "- \"@BillGates\" - neutral (individual stakeholder);\\n\\\n",
        "- \"innovative #GreenEnergy solutions\" - positive (solution-oriented);\\n\\\n",
        "- \"#GreenEnergy\" - positive (environmentally sustainable energy);\\n\\\n",
        "- \"AI-driven carbon capture systems\" - positive (emerging technology for emissions reduction);\\n\\\n",
        "- \"#ClimateChange\" - negative (environmental issue);\\n\\\n",
        "- \"deforestation\" - negative (environmental issue);\\n\\\n",
        "- \"presented strategies for mitigating the impact of deforestation\" - positive (solution-oriented);\\n\\\n",
        "- \"#Sustainability\" - positive (goal of sustainable practices);\\n\\\n",
        "- \"governments\" - neutral (political stakeholders);\\n\\\n",
        "- \"regulating industries\" - neutral (action by governments);\\n\\\n",
        "- \"#EnergyTransition\" - positive (shift to sustainable energy sources);\\n\\\n",
        "- \"reduce emissions\" - positive (goal-oriented mitigation strategy);\\n\\\n",
        "- \"protect the environment\" - positive (goal of environmental protection);\\n\\\n",
        "\\n\\\n",
        "**STEP 3**: Assign the category for each span:\\n\\\n",
        "- \"#COP28\" is **CONFERENCE**, as it refers to a significant international conference;\\n\\\n",
        "- \"Greenpeace\" is **ORGANIZATION**, as it refers to a non-profit organization;\\n\\\n",
        "- \"global leaders\" is **STAKEHOLDER**, as it refers to political figures or representatives;\\n\\\n",
        "- \"@ElonMusk\" is **STAKEHOLDER**, as it refers to an individual influential in climate discussions;\\n\\\n",
        "- \"@BillGates\" is **STAKEHOLDER**, as it refers to another key individual in the climate change discourse;\\n\\\n",
        "- \"innovative #GreenEnergy solutions\" is **POLICIES_AND_STRATEGIES**, as it refers to renewable energy initiatives;\\n\\\n",
        "- \"#GreenEnergy\" is **GREEN_ENERGY**, as it refers to sustainable energy alternatives;\\n\\\n",
        "- \"AI-driven carbon capture systems\" is **GREEN_ENERGY**, as it refers to advanced methods for emissions capture;\\n\\\n",
        "- \"#ClimateChange\" is **ENVIRONMENTAL_ISSUE**, as it is the overarching environmental issue;\\n\\\n",
        "- \"deforestation\" is **ENVIRONMENTAL_ISSUE**, as it is a key environmental issue contributing to climate change;\\n\\\n",
        "- \"presented strategies for mitigating the impact of deforestation\" is **POLICIES_AND_STRATEGIES**, as it refers to strategies for mitigating climate change;\\n\\\n",
        "- \"#Sustainability\" is **SUSTAINABILITY**, as it refers to practices aimed at maintaining ecological balance;\\n\\\n",
        "- \"governments\" is **STAKEHOLDER**, as it refers to political entities responsible for policy decisions;\\n\\\n",
        "- \"regulating industries\" is **POLICIES_AND_STRATEGIES**, as it refers to actions taken by governments to control industries;\\n\\\n",
        "- \"#EnergyTransition\" is **GREEN_ENERGY**, as it refers to the shift from fossil fuels to renewable energy sources;\\n\\\n",
        "- \"reduce emissions\" is **POLICIES_AND_STRATEGIES**, as it refers to efforts to lower harmful environmental impacts;\\n\\\n",
        "- \"protect the environment\" is **SUSTAINABILITY**, as it refers to efforts aimed at safeguarding ecosystems;\\n\\\n",
        "\\n\\\n",
        "**Output**:\\n\\\n",
        "{\"span\": \"#COP28\", \"polarity\": \"neutral\", \"category\": \"CONFERENCE\"},\\n\\\n",
        "{\"span\": \"Greenpeace\", \"polarity\": \"neutral\", \"category\": \"ORGANIZATION\"},\\n\\\n",
        "{\"span\": \"global leaders\", \"polarity\": \"neutral\", \"category\": \"STAKEHOLDER\"},\\n\\\n",
        "{\"span\": \"@ElonMusk\", \"polarity\": \"neutral\", \"category\": \"STAKEHOLDER\"},\\n\\\n",
        "{\"span\": \"@BillGates\", \"polarity\": \"neutral\", \"category\": \"STAKEHOLDER\"},\\n\\\n",
        "{\"span\": \"innovative #GreenEnergy solutions\", \"polarity\": \"positive\", \"category\": \"POLICIES_AND_STRATEGIES\"},\\n\\\n",
        "{\"span\": \"#GreenEnergy\", \"polarity\": \"positive\", \"category\": \"GREEN_ENERGY\"},\\n\\\n",
        "{\"span\": \"AI-driven carbon capture systems\", \"polarity\": \"positive\", \"category\": \"GREEN_ENERGY\"},\\n\\\n",
        "{\"span\": \"#ClimateChange\", \"polarity\": \"negative\", \"category\": \"ENVIRONMENTAL_ISSUE\"},\\n\\\n",
        "{\"span\": \"deforestation\", \"polarity\": \"negative\", \"category\": \"ENVIRONMENTAL_ISSUE\"},\\n\\\n",
        "{\"span\": \"presented strategies for mitigating the impact of deforestation\", \"polarity\": \"positive\", \"category\": \"POLICIES_AND_STRATEGIES\"},\\n\\\n",
        "{\"span\": \"#Sustainability\", \"polarity\": \"positive\", \"category\": \"SUSTAINABILITY\"},\\n\\\n",
        "{\"span\": \"governments\", \"polarity\": \"neutral\", \"category\": \"STAKEHOLDER\"},\\n\\\n",
        "{\"span\": \"regulating industries\", \"polarity\": \"neutral\", \"category\": \"POLICIES_AND_STRATEGIES\"},\\n\\\n",
        "{\"span\": \"#EnergyTransition\", \"polarity\": \"positive\", \"category\": \"GREEN_ENERGY\"},\\n\\\n",
        "{\"span\": \"reduce emissions\", \"polarity\": \"positive\", \"category\": \"POLICIES_AND_STRATEGIES\"},\\n\\\n",
        "{\"span\": \"protect the environment\", \"polarity\": \"positive\", \"category\": \"SUSTAINABILITY\"}\\n'"
      ]
    },
    {
      "cell_type": "code",
      "execution_count": null,
      "metadata": {
        "id": "5vGP27lbbxF-"
      },
      "outputs": [],
      "source": [
        "DEFAULT_PROMPT = 'I give you the following **TOPICS**:\\n\\\n",
        "- **Topics**: [\\\"Climate Change\\\", \\\"Pollution\\\", \\\"Renewable Energy\\\",\"COP\"]\\n\\\n",
        "\\n\\\n",
        "Using these TOPICS, analyze the input text and complete the following tasks:\\n\\\n",
        "\\n\\\n",
        "### TASK 1:\\n\\\n",
        "Identify all spans in the text that are DIRECTLY RELATED to the TOPICS and belongs to these CATEGORIES:\\n\\\n",
        "[\"CONFERENCE\",\"POLICIES_AND_STRATEGIES\",\"GREEN_ENERGY\",\"STAKEHOLDER\",\"ORGANIZATION\",\"SUSTAINABILITY\",\"ENVIRONMENTAL_ISSUE\"].\\n\\\n",
        "Do not include in the output any spans not related to CATEGORIES.\\n\\\n",
        "- Spans can overlap; therefore, include nested spans if they are related to the CATEGORIES.\\n\\\n",
        "\\n\\\n",
        "### TASK 2:\\n\\\n",
        "Determine the **sentiment** of each identified span. Sentiment options are:\\n\\\n",
        "- \\\"positive,\\\" \\\"neutral,\\\" or \\\"negative.\\\"\\n\\\n",
        "\\n\\\n",
        "### TASK 3:\\n\\\n",
        "Determine the **category** of each span and return only the uppercase name of the category.\\n\\\n",
        "\\n\\\n",
        "### OUTPUT CASES:\\n\\\n",
        "- **CASE 1**: If you identify one or more spans, return each result in the following format, without adding extra information:\\n\\\n",
        "- **DESIRED OUTPUT FORMAT**:\\n\\\n",
        "  { \\\"span\\\": \\\"<identified span>\\\", \\\"polarity\\\": \\\"<sentiment>\\\", \\\"category\\\": \\\"<CATEGORY>\\\" }\\n\\\n",
        "\\n\\\n",
        "- **CASE 2**: If no spans are identified, return only the following, without adding extra information:\\n\\\n",
        "- **DESIRED OUTPUT FORMAT**:\\n\\\n",
        "  \\\"{}\\\"\\n\\\n",
        "\\n\\\n",
        "Please ensure the response conforms exactly to the specified DESIRED OUTPUT FORMAT for the relevant case.\\n'"
      ]
    },
    {
      "cell_type": "code",
      "execution_count": null,
      "metadata": {
        "id": "02cR43OUbxF_"
      },
      "outputs": [],
      "source": [
        "FEW_SHOT_PROMPT = DEFAULT_PROMPT + 'Here is a few examples:\\n'"
      ]
    },
    {
      "cell_type": "code",
      "execution_count": null,
      "metadata": {
        "id": "l00Ego_wbxGB"
      },
      "outputs": [],
      "source": [
        "ZERO_SHOT_PROMPT = DEFAULT_PROMPT + '**Text**: '"
      ]
    },
    {
      "cell_type": "code",
      "execution_count": null,
      "metadata": {
        "id": "Qb4X-5ftbxGC"
      },
      "outputs": [],
      "source": [
        "COT_PROMPT = DEFAULT_PROMPT + 'Let s think step by step.\\n'"
      ]
    },
    {
      "cell_type": "code",
      "execution_count": null,
      "metadata": {
        "id": "G1sRkzzeb1YX"
      },
      "outputs": [],
      "source": [
        "# data_p = {\"prompt\": {'fs':[FEW_SHOT_PROMPT],'zs':[ZERO_SHOT_PROMPT],'cot':[COT_PROMPT]}}\n",
        "# data_e = {\"examples\": {'fs':[ex1,ex2,ex3,ex4,ex5,ex6,ex7,ex8,ex9,ex10],'cot':[chain]}}\n",
        "\n",
        "\n",
        "# #Salva i dati in un file JSON\n",
        "# with open(PROMPT_PATH, \"w\") as file:\n",
        "#     json.dump(data_p, file)\n",
        "\n",
        "# with open(EXAMPLES_PATH, \"w\") as file:\n",
        "#      json.dump(data_e, file)"
      ]
    },
    {
      "cell_type": "code",
      "execution_count": null,
      "metadata": {
        "id": "37RabDCQemRL"
      },
      "outputs": [],
      "source": [
        "PROMPT_FS,PROMPT_ZS,PROMPT_COT = load_prompt(PROMPT_PATH)"
      ]
    },
    {
      "cell_type": "code",
      "execution_count": null,
      "metadata": {
        "colab": {
          "base_uri": "https://localhost:8080/"
        },
        "id": "-ckVtn8dXL99",
        "outputId": "d6c41382-c073-4501-9e22-1bdea8046434"
      },
      "outputs": [
        {
          "name": "stdout",
          "output_type": "stream",
          "text": [
            "### FEW_SHOT ###\n",
            "\n",
            "I give you the following **TOPICS**:\n",
            "- **Topics**: [\"Climate Change\", \"Pollution\", \"Renewable Energy\",\"COP\"]\n",
            "\n",
            "Using these TOPICS, analyze the input text and complete the following tasks:\n",
            "\n",
            "### TASK 1:\n",
            "Identify all spans in the text that are DIRECTLY RELATED to the TOPICS and belongs to these CATEGORIES:\n",
            "[\"CONFERENCE\",\"POLICIES_AND_STRATEGIES\",\"GREEN_ENERGY\",\"STAKEHOLDER\",\"ORGANIZATION\",\"SUSTAINABILITY\",\"ENVIRONMENTAL_ISSUE\"].\n",
            "Do not include in the output any spans not related to CATEGORIES.\n",
            "- Spans can overlap; therefore, include nested spans if they are related to the CATEGORIES.\n",
            "\n",
            "### TASK 2:\n",
            "Determine the **sentiment** of each identified span. Sentiment options are:\n",
            "- \"positive,\" \"neutral,\" or \"negative.\"\n",
            "\n",
            "### TASK 3:\n",
            "Determine the **category** of each span and return only the uppercase name of the category.\n",
            "\n",
            "### OUTPUT CASES:\n",
            "- **CASE 1**: If you identify one or more spans, return each result in the following format, without adding extra information:\n",
            "- **DESIRED OUTPUT FORMAT**:\n",
            "  { \"span\": \"<identified span>\", \"polarity\": \"<sentiment>\", \"category\": \"<CATEGORY>\" }\n",
            "\n",
            "- **CASE 2**: If no spans are identified, return only the following, without adding extra information:\n",
            "- **DESIRED OUTPUT FORMAT**:\n",
            "  \"{}\"\n",
            "\n",
            "Please ensure the response conforms exactly to the specified DESIRED OUTPUT FORMAT for the relevant case.\n",
            "Here is a few examples:\n",
            "\n",
            "\n",
            "### ZERO_SHOT ###\n",
            "\n",
            "I give you the following **TOPICS**:\n",
            "- **Topics**: [\"Climate Change\", \"Pollution\", \"Renewable Energy\",\"COP\"]\n",
            "\n",
            "Using these TOPICS, analyze the input text and complete the following tasks:\n",
            "\n",
            "### TASK 1:\n",
            "Identify all spans in the text that are DIRECTLY RELATED to the TOPICS and belongs to these CATEGORIES:\n",
            "[\"CONFERENCE\",\"POLICIES_AND_STRATEGIES\",\"GREEN_ENERGY\",\"STAKEHOLDER\",\"ORGANIZATION\",\"SUSTAINABILITY\",\"ENVIRONMENTAL_ISSUE\"].\n",
            "Do not include in the output any spans not related to CATEGORIES.\n",
            "- Spans can overlap; therefore, include nested spans if they are related to the CATEGORIES.\n",
            "\n",
            "### TASK 2:\n",
            "Determine the **sentiment** of each identified span. Sentiment options are:\n",
            "- \"positive,\" \"neutral,\" or \"negative.\"\n",
            "\n",
            "### TASK 3:\n",
            "Determine the **category** of each span and return only the uppercase name of the category.\n",
            "\n",
            "### OUTPUT CASES:\n",
            "- **CASE 1**: If you identify one or more spans, return each result in the following format, without adding extra information:\n",
            "- **DESIRED OUTPUT FORMAT**:\n",
            "  { \"span\": \"<identified span>\", \"polarity\": \"<sentiment>\", \"category\": \"<CATEGORY>\" }\n",
            "\n",
            "- **CASE 2**: If no spans are identified, return only the following, without adding extra information:\n",
            "- **DESIRED OUTPUT FORMAT**:\n",
            "  \"{}\"\n",
            "\n",
            "Please ensure the response conforms exactly to the specified DESIRED OUTPUT FORMAT for the relevant case.\n",
            "**Text**: \n",
            "\n",
            "### CHAIN_OF_THOUGHT ###\n",
            "\n",
            "I give you the following **TOPICS**:\n",
            "- **Topics**: [\"Climate Change\", \"Pollution\", \"Renewable Energy\",\"COP\"]\n",
            "\n",
            "Using these TOPICS, analyze the input text and complete the following tasks:\n",
            "\n",
            "### TASK 1:\n",
            "Identify all spans in the text that are DIRECTLY RELATED to the TOPICS and belongs to these CATEGORIES:\n",
            "[\"CONFERENCE\",\"POLICIES_AND_STRATEGIES\",\"GREEN_ENERGY\",\"STAKEHOLDER\",\"ORGANIZATION\",\"SUSTAINABILITY\",\"ENVIRONMENTAL_ISSUE\"].\n",
            "Do not include in the output any spans not related to CATEGORIES.\n",
            "- Spans can overlap; therefore, include nested spans if they are related to the CATEGORIES.\n",
            "\n",
            "### TASK 2:\n",
            "Determine the **sentiment** of each identified span. Sentiment options are:\n",
            "- \"positive,\" \"neutral,\" or \"negative.\"\n",
            "\n",
            "### TASK 3:\n",
            "Determine the **category** of each span and return only the uppercase name of the category.\n",
            "\n",
            "### OUTPUT CASES:\n",
            "- **CASE 1**: If you identify one or more spans, return each result in the following format, without adding extra information:\n",
            "- **DESIRED OUTPUT FORMAT**:\n",
            "  { \"span\": \"<identified span>\", \"polarity\": \"<sentiment>\", \"category\": \"<CATEGORY>\" }\n",
            "\n",
            "- **CASE 2**: If no spans are identified, return only the following, without adding extra information:\n",
            "- **DESIRED OUTPUT FORMAT**:\n",
            "  \"{}\"\n",
            "\n",
            "Please ensure the response conforms exactly to the specified DESIRED OUTPUT FORMAT for the relevant case.\n",
            "Let s think step by step.\n",
            "\n",
            "\n"
          ]
        }
      ],
      "source": [
        "print(f'### FEW_SHOT ###\\n\\n{PROMPT_FS}\\n')\n",
        "print(f'### ZERO_SHOT ###\\n\\n{PROMPT_ZS}\\n')\n",
        "print(f'### CHAIN_OF_THOUGHT ###\\n\\n{PROMPT_COT}\\n')"
      ]
    },
    {
      "cell_type": "code",
      "execution_count": null,
      "metadata": {
        "id": "qKglj7RhXryh"
      },
      "outputs": [],
      "source": [
        "EXAMPLES_FS,CHAIN_COT = load_ex(EXAMPLES_PATH)"
      ]
    },
    {
      "cell_type": "code",
      "execution_count": null,
      "metadata": {
        "colab": {
          "base_uri": "https://localhost:8080/"
        },
        "id": "oBvO0lMqXrlr",
        "outputId": "25b2912c-2539-4da0-8448-e95f00416df2"
      },
      "outputs": [
        {
          "name": "stdout",
          "output_type": "stream",
          "text": [
            "### FEW-SHOT EXAMPLES ###\n",
            "\n",
            "**Text**: At the United Nations Climate Change Conference, policy makers unveiled new strategies aimed at reducing carbon emissions and promoting green energy solutions for future generations.\n",
            "**Output**: {\"span\": \"United Nations Climate Change Conference\", \"polarity\": \"neutral\", \"category\": \"CONFERENCE\"},{\"span\": \"policy makers\", \"polarity\": \"neutral\", \"category\": \"STAKEHOLDER\"},{\"span\": \"policy makers unveiled new strategies aimed at reducing carbon emissions and promoting green energy solutions\", \"polarity\": \"positive\", \"category\": \"POLICIES_AND_STRATEGIES\"},{\"span\": \"carbon emissions\", \"polarity\": \"positive\", \"category\": \"ENVIRONMENTAL_ISSUE\"},{\"span\": \"green energy solutions\", \"polarity\": \"positive\", \"category\": \"GREEN_ENERGY\"}\n",
            "\n",
            "**Text**: The government of Norway has proposed a policy to increase investments in carbon capture technologies to combat climate change and ensure long-term sustainability.\n",
            "**Output**: {\"span\": \"government of Norway\", \"polarity\": \"neutral\", \"category\": \"STAKEHOLDER\"},{\"span\": \"proposed a policy to increase investments in carbon capture technologies\", \"polarity\": \"positive\", \"category\": \"POLICIES_AND_STRATEGIES\"},{\"span\": \"carbon capture technologies\", \"polarity\": \"positive\", \"category\": \"GREEN_ENERGY\"},{\"span\": \"climate change\", \"polarity\": \"negative\", \"category\": \"ENVIRONMENTAL_ISSUE\"},{\"span\": \"long-term sustainability\", \"polarity\": \"positive\", \"category\": \"SUSTAINABILITY\"}\n",
            "\n",
            "**Text**: During the Paris Climate Agreement, world leaders discussed the urgent need to implement more ambitious policies to transition to renewable energy and safeguard the environment.\n",
            "**Output**: {\"span\": \"Paris Climate Agreement\", \"polarity\": \"neutral\", \"category\": \"CONFERENCE\"},{\"span\": \"world leaders\", \"polarity\": \"neutral\", \"category\": \"STAKEHOLDER\"},{\"span\": \"world leaders discussed the urgent need to implement more ambitious policies to transition to renewable energy\", \"polarity\": \"positive\", \"category\": \"POLICIES_AND_STRATEGIES\"},{\"span\": \"transition to renewable energy\", \"polarity\": \"positive\", \"category\": \"GREEN_ENERGY\"},{\"span\": \"safeguard the environment\", \"polarity\": \"positive\", \"category\": \"SUSTAINABILITY\"}\n",
            "\n",
            "**Text**: The new report from the IPCC outlines strategies for reducing global warming by investing in clean technologies, reducing emissions, and promoting sustainable practices.\n",
            "**Output**: {\"span\": \"IPCC\", \"polarity\": \"neutral\", \"category\": \"ORGANIZATION\"},{\"span\": \"strategies for reducing global warming\", \"polarity\": \"positive\", \"category\": \"POLICIES_AND_STRATEGIES\"},{\"span\": \"global warming\", \"polarity\": \"negative\", \"category\": \"ENVIRONMENTAL_ISSUE\"},{\"span\": \"clean technologies\", \"polarity\": \"positive\", \"category\": \"GREEN_ENERGY\"},{\"span\": \"reducing emissions\", \"polarity\": \"positive\", \"category\": \"ENVIRONMENTAL_ISSUE\"},{\"span\": \"promoting sustainable practices\", \"polarity\": \"positive\", \"category\": \"SUSTAINABILITY\"}\n",
            "\n",
            "**Text**: The transition to renewable energy in countries like Germany and Denmark is being supported by advanced solar technologies and government-backed green energy policies.\n",
            "**Output**: {\"span\": \"transition to renewable energy\", \"polarity\": \"positive\", \"category\": \"SUSTAINABILITY\"},{\"span\": \"renewable energy\", \"polarity\": \"neutral\", \"category\": \"GREEN_ENERGY\"},{\"span\": \"advanced solar technologies\", \"polarity\": \"positive\", \"category\": \"GREEN_ENERGY\"},{\"span\": \"government-backed\", \"polarity\": \"positive\", \"category\": \"STAKEHOLDER\"},{\"span\": \"government-backed green energy policies\", \"polarity\": \"positive\", \"category\": \"POLICIES_AND_STRATEGIES\"}\n",
            "\n",
            "**Text**: Tesla, led by Elon Musk, is playing a pivotal role in promoting the global adoption of electric vehicles, while organizations like Greenpeace advocate for stronger environmental policies worldwide.\n",
            "**Output**: {\"span\": \"Tesla\", \"polarity\": \"positive\", \"category\": \"ORGANIZATION\"},{\"span\": \"Elon Musk\", \"polarity\": \"positive\", \"category\": \"STAKEHOLDER\"},{\"span\": \"promoting the global adoption of electric vehicles\", \"polarity\": \"positive\", \"category\": \"SUSTAINABILITY\"},{\"span\": electric vehicles\", \"polarity\": \"positive\", \"category\": \"GREEN_ENERGY\"},{\"span\": \"Greenpeace\", \"polarity\": \"positive\", \"category\": \"ORGANIZATION\"},{\"span\": \"stronger environmental policies\", \"polarity\": \"positive\", \"category\": \"POLICIES_AND_STRATEGIES\"}\n",
            "\n",
            "**Text**: The Bill and Melinda Gates Foundation, spearheaded by Bill Gates, has significantly contributed to combating global health crises, while the UN supports these efforts through international partnerships.\n",
            "**Output**: {\"span\": \"Bill and Melinda Gates Foundation\", \"polarity\": \"positive\", \"category\": \"ORGANIZATION\"},{\"span\": \"Bill Gates\", \"polarity\": \"positive\", \"category\": \"STAKEHOLDER\"},{\"span\": \"combating global health crises\", \"polarity\": \"positive\", \"category\": \"SUSTAINABILITY\"},{\"span\": \"global health crises\", \"polarity\": \"negative\", \"category\": \"ENVIRONMENTAL_ISSUE\"},{\"span\": \"UN\", \"polarity\": \"positive\", \"category\": \"ORGANIZATION\"},{\"span\": \"UN supports these efforts through international partnerships\", \"polarity\": \"positive\", \"category\": \"POLICIES_AND_STRATEGIES\"}\n",
            "\n",
            "**Text**: During COP28,located in Dubai, António Guterres urged world leaders and organizations like Greenpeace to accelerate climate action, emphasizing the importance of renewable energy and phasing out fossil fuels.\n",
            "**Output**: {\"span\": \"COP28\", \"polarity\": \"neutral\", \"category\": \"CONFERENCE\"},{\"span\": \"António Guterres\", \"polarity\": \"positive\", \"category\": \"STAKEHOLDER\"},{\"span\": \"world leaders\", \"polarity\": \"neutral\", \"category\": \"STAKEHOLDER\"},{\"span\": \"Greenpeace\", \"polarity\": \"positive\", \"category\": \"ORGANIZATION\"},{\"span\": \"climate action\", \"polarity\": \"positive\", \"category\": \"SUSTAINABILITY\"},{\"span\": \"renewable energy\", \"polarity\": \"positive\", \"category\": \"GREEN_ENERGY\"},{\"span\": \"phasing out fossil fuels\", \"polarity\": \"positive\", \"category\": \"ENVIRONMENTAL_ISSUES\"},{\"span\": \"António Guterres urged world leaders and organizations like Greenpeace\", \"polarity\": \"positive\", \"category\": \"POLICIES_AND_STRATEGIES\"}\n",
            "\n",
            "**Text**: At COP28, critics accused certain governments, such as Brazil and Australia, of failing to meet their climate pledges, citing continued deforestation and coal mining activities.\n",
            "**Output**: {\"span\": \"COP28\", \"polarity\": \"neutral\", \"category\": \"CONFERENCE\"},{\"span\": \"certain governments\", \"polarity\": \"negative\", \"category\": \"STAKEHOLDER\"},{\"span\": \"failing to meet their climate pledges\", \"polarity\": \"negative\", \"category\": \"POLICIES_AND_STRATEGIES\"},{\"span\": \"continued deforestation and coal mining activities\", \"polarity\": \"negative\", \"category\": \"ENVIRONMENTAL_ISSUE\"}\n",
            "\n",
            "**Text**: Despite the promises made at COP28, corporations like Chevron and Shell faced backlash for lobbying against stricter climate regulations, which activists argue undermines global efforts to combat climate change.\n",
            "**Output**: {\"span\": \"COP28\", \"polarity\": \"neutral\", \"category\": \"CONFERENCE\"},{\"span\": \"corporations like Chevron and Shell\", \"polarity\": \"negative\", \"category\": \"ORGANIZATION\"},{\"span\": \"Chevron\", \"polarity\": \"negative\", \"category\": \"ORGANIZATION\"},{\"span\": \"Shell\", \"polarity\": \"negative\", \"category\": \"ORGANIZATION\"},{\"span\": \"lobbying against stricter climate regulations\", \"polarity\": \"negative\", \"category\": \"POLICIES_AND_STRATEGIES\"},{\"span\": \"activists\", \"polarity\": \"neutral\", \"category\": \"STAKEHOLDER\"},{\"span\": \"undermines global efforts to combat climate change\", \"polarity\": \"negative\", \"category\": \"ENVIRONMENTAL_ISSUE\"},{\"span\": \"climate change\", \"polarity\": \"negative\", \"category\": \"ENVIRONMENTAL_ISSUE\"}\n",
            "\n",
            "### CHAIN OF THOUGHT EXAMPLES ###\n",
            "\n",
            "**Example Walkthrough**:\n",
            "\n",
            "**Text**:\n",
            "\"At the #COP28 summit in #Dubai, global leaders from around the world, and various organizations, like Greenpeace, came together to discuss innovative #GreenEnergy solutions. They emphasized the importance of #Technology, like AI-driven carbon capture systems, in combating #ClimateChange. Several key #Stakeholders, including @ElonMusk and @BillGates, presented strategies for mitigating the impact of deforestation and promoting #Sustainability. The role of governments in regulating industries was also debated, with action plans for #EnergyTransition already in place. The focus is clear: reduce emissions and protect the environment for future generations.\"\n",
            "\n",
            "**STEP 1**: Identify the main spans in the text, including overlapping spans:\n",
            "The spans found are:\n",
            "\"#COP28\",\"Greenpeace\",\"global leaders\", \"@ElonMusk\", \"@BillGates\", \"innovative #GreenEnergy solutions\", \"#GreenEnergy\", \"AI-driven carbon capture systems\", \"#ClimateChange\",\"presented strategies for mitigating the impact of deforestation\", \"deforestation\", \"#Sustainability\", \"governments\", \"regulating industries\", \"#EnergyTransition\", \"reduce emissions\", \"protect the environment\".\n",
            "\n",
            "Note:\n",
            "There are overlapping spans, that belongs to different categories:\n",
            "- \"innovative #GreenEnergy solutions\" overlaps with \"#GreenEnergy\" (the first belongs to category \"POLICIES_AND_STRATEGIES\", and the latter belongs to \"GREEN_ENERGY\").\n",
            "- \"deforestation\" overlaps with \"presented strategies for mitigating the impact of deforestation\" (deforestation belongs to category \"ENVIRONMENTAL_ISSUE\", and  the latter belongs to \"POLICIES_AND_STRATEGIES\").\n",
            "\n",
            "**STEP 2**: Classify the polarity of each span:\n",
            "- \"#COP28\" - neutral (conference reference);\n",
            "- \"GreenPeace\" - neutral (organization);\n",
            "- \"global leaders\" - neutral (description of stakeholders);\n",
            "- \"@ElonMusk\" - neutral (individual stakeholder);\n",
            "- \"@BillGates\" - neutral (individual stakeholder);\n",
            "- \"innovative #GreenEnergy solutions\" - positive (solution-oriented);\n",
            "- \"#GreenEnergy\" - positive (environmentally sustainable energy);\n",
            "- \"AI-driven carbon capture systems\" - positive (emerging technology for emissions reduction);\n",
            "- \"#ClimateChange\" - negative (environmental issue);\n",
            "- \"deforestation\" - negative (environmental issue);\n",
            "- \"presented strategies for mitigating the impact of deforestation\" - positive (solution-oriented);\n",
            "- \"#Sustainability\" - positive (goal of sustainable practices);\n",
            "- \"governments\" - neutral (political stakeholders);\n",
            "- \"regulating industries\" - neutral (action by governments);\n",
            "- \"#EnergyTransition\" - positive (shift to sustainable energy sources);\n",
            "- \"reduce emissions\" - positive (goal-oriented mitigation strategy);\n",
            "- \"protect the environment\" - positive (goal of environmental protection);\n",
            "\n",
            "**STEP 3**: Assign the category for each span:\n",
            "- \"#COP28\" is **CONFERENCE**, as it refers to a significant international conference;\n",
            "- \"Greenpeace\" is **ORGANIZATION**, as it refers to a non-profit organization;\n",
            "- \"global leaders\" is **STAKEHOLDER**, as it refers to political figures or representatives;\n",
            "- \"@ElonMusk\" is **STAKEHOLDER**, as it refers to an individual influential in climate discussions;\n",
            "- \"@BillGates\" is **STAKEHOLDER**, as it refers to another key individual in the climate change discourse;\n",
            "- \"innovative #GreenEnergy solutions\" is **POLICIES_AND_STRATEGIES**, as it refers to renewable energy initiatives;\n",
            "- \"#GreenEnergy\" is **GREEN_ENERGY**, as it refers to sustainable energy alternatives;\n",
            "- \"AI-driven carbon capture systems\" is **GREEN_ENERGY**, as it refers to advanced methods for emissions capture;\n",
            "- \"#ClimateChange\" is **ENVIRONMENTAL_ISSUE**, as it is the overarching environmental issue;\n",
            "- \"deforestation\" is **ENVIRONMENTAL_ISSUE**, as it is a key environmental issue contributing to climate change;\n",
            "- \"presented strategies for mitigating the impact of deforestation\" is **POLICIES_AND_STRATEGIES**, as it refers to strategies for mitigating climate change;\n",
            "- \"#Sustainability\" is **SUSTAINABILITY**, as it refers to practices aimed at maintaining ecological balance;\n",
            "- \"governments\" is **STAKEHOLDER**, as it refers to political entities responsible for policy decisions;\n",
            "- \"regulating industries\" is **POLICIES_AND_STRATEGIES**, as it refers to actions taken by governments to control industries;\n",
            "- \"#EnergyTransition\" is **GREEN_ENERGY**, as it refers to the shift from fossil fuels to renewable energy sources;\n",
            "- \"reduce emissions\" is **POLICIES_AND_STRATEGIES**, as it refers to efforts to lower harmful environmental impacts;\n",
            "- \"protect the environment\" is **SUSTAINABILITY**, as it refers to efforts aimed at safeguarding ecosystems;\n",
            "\n",
            "**Output**:\n",
            "{\"span\": \"#COP28\", \"polarity\": \"neutral\", \"category\": \"CONFERENCE\"},\n",
            "{\"span\": \"Greenpeace\", \"polarity\": \"neutral\", \"category\": \"ORGANIZATION\"},\n",
            "{\"span\": \"global leaders\", \"polarity\": \"neutral\", \"category\": \"STAKEHOLDER\"},\n",
            "{\"span\": \"@ElonMusk\", \"polarity\": \"neutral\", \"category\": \"STAKEHOLDER\"},\n",
            "{\"span\": \"@BillGates\", \"polarity\": \"neutral\", \"category\": \"STAKEHOLDER\"},\n",
            "{\"span\": \"innovative #GreenEnergy solutions\", \"polarity\": \"positive\", \"category\": \"POLICIES_AND_STRATEGIES\"},\n",
            "{\"span\": \"#GreenEnergy\", \"polarity\": \"positive\", \"category\": \"GREEN_ENERGY\"},\n",
            "{\"span\": \"AI-driven carbon capture systems\", \"polarity\": \"positive\", \"category\": \"GREEN_ENERGY\"},\n",
            "{\"span\": \"#ClimateChange\", \"polarity\": \"negative\", \"category\": \"ENVIRONMENTAL_ISSUE\"},\n",
            "{\"span\": \"deforestation\", \"polarity\": \"negative\", \"category\": \"ENVIRONMENTAL_ISSUE\"},\n",
            "{\"span\": \"presented strategies for mitigating the impact of deforestation\", \"polarity\": \"positive\", \"category\": \"POLICIES_AND_STRATEGIES\"},\n",
            "{\"span\": \"#Sustainability\", \"polarity\": \"positive\", \"category\": \"SUSTAINABILITY\"},\n",
            "{\"span\": \"governments\", \"polarity\": \"neutral\", \"category\": \"STAKEHOLDER\"},\n",
            "{\"span\": \"regulating industries\", \"polarity\": \"neutral\", \"category\": \"POLICIES_AND_STRATEGIES\"},\n",
            "{\"span\": \"#EnergyTransition\", \"polarity\": \"positive\", \"category\": \"GREEN_ENERGY\"},\n",
            "{\"span\": \"reduce emissions\", \"polarity\": \"positive\", \"category\": \"POLICIES_AND_STRATEGIES\"},\n",
            "{\"span\": \"protect the environment\", \"polarity\": \"positive\", \"category\": \"SUSTAINABILITY\"}\n",
            "\n",
            "\n"
          ]
        }
      ],
      "source": [
        "print('### FEW-SHOT EXAMPLES ###\\n')\n",
        "for i in EXAMPLES_FS:\n",
        "    print(i+'\\n')\n",
        "\n",
        "print('### CHAIN OF THOUGHT EXAMPLES ###\\n')\n",
        "for i in CHAIN_COT:\n",
        "    print(i+'\\n')"
      ]
    },
    {
      "cell_type": "markdown",
      "metadata": {
        "id": "PzEUhy1AZnLj"
      },
      "source": [
        "# Prompting"
      ]
    },
    {
      "cell_type": "code",
      "execution_count": null,
      "metadata": {
        "id": "oHLkukftYu0i"
      },
      "outputs": [],
      "source": [
        "def zero_shot_prompt(text, tokenizer = mistral_tokenizer, model = mistral_model, prompt = PROMPT_ZS):\n",
        "\n",
        "    def_prompt = prompt\n",
        "\n",
        "    text = text + \"\\n\" + \"**Output**: \"\n",
        "\n",
        "    prompt =  [{\"role\": \"user\", \"content\":  f\"{def_prompt}: {text}\" }]\n",
        "\n",
        "    inputs = tokenizer.apply_chat_template(prompt, return_tensors=\"pt\", add_generation_prompt=True,return_dict=True)\n",
        "    inputs = {k: v.to(model.device) for k, v in inputs.items()}\n",
        "    # Genera la risposta dal modello\n",
        "    outputs = model.generate(\n",
        "        input_ids=inputs['input_ids'],\n",
        "        max_new_tokens = 1000,\n",
        "        #pad_token_id=tokenizer.pad_token_id\n",
        "        pad_token_id=tokenizer.eos_token_id\n",
        "    )\n",
        "\n",
        "    prompt_length = inputs['input_ids'].shape[1]\n",
        "\n",
        "    answer = tokenizer.decode(outputs[0][prompt_length:], skip_special_tokens=True)\n",
        "\n",
        "    return answer"
      ]
    },
    {
      "cell_type": "code",
      "execution_count": null,
      "metadata": {
        "id": "wlVPM1tYS1uI"
      },
      "outputs": [],
      "source": [
        "def few_shot_prompt(text, tokenizer = mistral_tokenizer, model = mistral_model, n_shot = 5,prompt = PROMPT_FS ,examples = EXAMPLES_FS):\n",
        "\n",
        "    ex = take_examples(examples , n_shot)\n",
        "\n",
        "    def_prompt = prompt + ex + \"Looking at the examples, generate output for the next sentence.\\n\\\n",
        "    **Text**: \"\n",
        "\n",
        "    text = text + \"\\n\" + \"**Output**: \"\n",
        "\n",
        "    prompt =  [{\"role\": \"user\", \"content\":  f\"{def_prompt}: {text}\" }]\n",
        "\n",
        "\n",
        "    inputs = tokenizer.apply_chat_template(prompt, return_tensors=\"pt\", add_generation_prompt=True,return_dict=True)\n",
        "    inputs = {k: v.to(model.device) for k, v in inputs.items()}\n",
        "    # Genera la risposta dal modello\n",
        "    outputs = model.generate(\n",
        "        input_ids=inputs['input_ids'],\n",
        "        max_new_tokens = 1500,\n",
        "        #pad_token_id=tokenizer.pad_token_id\n",
        "        pad_token_id=tokenizer.eos_token_id\n",
        "    )\n",
        "\n",
        "    prompt_length = inputs['input_ids'].shape[1]\n",
        "\n",
        "    answer = tokenizer.decode(outputs[0][prompt_length:], skip_special_tokens=True)\n",
        "\n",
        "    return answer"
      ]
    },
    {
      "cell_type": "code",
      "execution_count": null,
      "metadata": {
        "id": "jkrzuXl_S3gd"
      },
      "outputs": [],
      "source": [
        "def chain_of_thought_prompt(text, tokenizer = mistral_tokenizer, model = mistral_model, n_chain = 1,prompt = PROMPT_COT,chain = CHAIN_COT,zs = False):\n",
        "\n",
        "    ch = ''\n",
        "    if not zs:\n",
        "        ch = take_chain(chain , n_chain)\n",
        "\n",
        "    def_prompt = prompt + ch + \"**Text**: \"\n",
        "    text = text + \"\\n\" + \"**Output**: \"\n",
        "\n",
        "    prompt =  [{\"role\": \"user\", \"content\":  f\"{def_prompt}: {text}\" }]\n",
        "\n",
        "\n",
        "    inputs = tokenizer.apply_chat_template(prompt, return_tensors=\"pt\", add_generation_prompt=True,return_dict=True)\n",
        "    inputs = {k: v.to(model.device) for k, v in inputs.items()}\n",
        "    # Genera la risposta dal modello\n",
        "    outputs = model.generate(\n",
        "        input_ids=inputs['input_ids'],\n",
        "        max_new_tokens = 2000,\n",
        "        #pad_token_id=tokenizer.pad_token_id\n",
        "        pad_token_id=tokenizer.eos_token_id\n",
        "    )\n",
        "\n",
        "    prompt_length = inputs['input_ids'].shape[1]\n",
        "\n",
        "    answer = tokenizer.decode(outputs[0][prompt_length:], skip_special_tokens=True)\n",
        "\n",
        "    return answer"
      ]
    },
    {
      "cell_type": "markdown",
      "metadata": {
        "id": "ypoIgHVtazTt"
      },
      "source": [
        "#  Text generation with Mistral"
      ]
    },
    {
      "cell_type": "markdown",
      "metadata": {
        "id": "BVGt9YcInAtl"
      },
      "source": [
        "Use of Mistral to generate examples, that we use later to fine tuning a Roberta pretrained model."
      ]
    },
    {
      "cell_type": "code",
      "execution_count": null,
      "metadata": {
        "id": "nbx8dd1GpBge"
      },
      "outputs": [],
      "source": [
        "import time\n",
        "from tqdm import tqdm\n",
        "import warnings\n",
        "warnings.filterwarnings('ignore')\n",
        "\n",
        "results_zs = []\n",
        "results_fs = []\n",
        "results_zscot = []\n",
        "results_cot = []\n",
        "\n",
        "\n",
        "for i, t in enumerate(tqdm(tweets, desc=\"Elaborazione Tweets\", unit=\"tweet\")):\n",
        "    if t != \"\":\n",
        "        zs = zero_shot_prompt(t)\n",
        "        fs = few_shot_prompt(t)\n",
        "        zscot = chain_of_thought_prompt(t, zs=True)\n",
        "        cot = chain_of_thought_prompt(t)\n",
        "\n",
        "        results_zs.append((t, zs))\n",
        "        results_fs.append((t, fs))\n",
        "        results_zscot.append((t, zscot))\n",
        "        results_cot.append((t, cot))"
      ]
    },
    {
      "cell_type": "code",
      "execution_count": null,
      "metadata": {
        "id": "MliYTUoZ0n8s"
      },
      "outputs": [],
      "source": [
        "save_results(os.path.join(MISTRAL_RES_PATH,f'zs_{N}.jsonl'),results_zs)"
      ]
    },
    {
      "cell_type": "code",
      "execution_count": null,
      "metadata": {
        "id": "NMR_k-iZ1PNi"
      },
      "outputs": [],
      "source": [
        "save_results(os.path.join(MISTRAL_RES_PATH,f'fs_{N}.jsonl'),results_fs)"
      ]
    },
    {
      "cell_type": "code",
      "execution_count": null,
      "metadata": {
        "id": "tA7-G4YK1Rmt"
      },
      "outputs": [],
      "source": [
        "save_results(os.path.join(MISTRAL_RES_PATH,f'zscot_{N}.jsonl'),results_zscot)"
      ]
    },
    {
      "cell_type": "code",
      "execution_count": null,
      "metadata": {
        "id": "YGSWoUlE1TbN"
      },
      "outputs": [],
      "source": [
        "save_results(os.path.join(MISTRAL_RES_PATH,f'cot_{N}.jsonl'),results_cot)"
      ]
    },
    {
      "cell_type": "markdown",
      "metadata": {
        "id": "8gdVIqRg3GT2"
      },
      "source": [
        "# Add offset to data"
      ]
    },
    {
      "cell_type": "markdown",
      "metadata": {
        "id": "aZ66dghTnAtm"
      },
      "source": [
        "When the data is ready we add the information about spans offset"
      ]
    },
    {
      "cell_type": "code",
      "execution_count": null,
      "metadata": {
        "id": "W919GpPC3zEj"
      },
      "outputs": [],
      "source": [
        "SRC_FILE = os.path.join(MISTRAL_RES_PATH,f'fs_{N}.jsonl')"
      ]
    },
    {
      "cell_type": "code",
      "execution_count": null,
      "metadata": {
        "id": "fibQoGJn6_Du"
      },
      "outputs": [],
      "source": [
        "save_offset_data(SRC_FILE)"
      ]
    },
    {
      "cell_type": "markdown",
      "metadata": {
        "id": "Ydj3lxRy8kkG"
      },
      "source": [
        "# Create Train, Test and Validation"
      ]
    },
    {
      "cell_type": "markdown",
      "metadata": {
        "id": "GPMUJntCnAtn"
      },
      "source": [
        "Create the final dataset, that we use later for Fine Tuning"
      ]
    },
    {
      "cell_type": "code",
      "execution_count": null,
      "metadata": {
        "id": "OlPycZZB8qX6"
      },
      "outputs": [],
      "source": [
        "l = clean_split_results(TRAIN_RAW_FILE,TRAIN_FILE,TEST_FILE,VAL_FILE)"
      ]
    },
    {
      "cell_type": "code",
      "execution_count": 118,
      "metadata": {
        "colab": {
          "base_uri": "https://localhost:8080/",
          "height": 1000
        },
        "id": "G6dC-R6jR6tV",
        "outputId": "64732cd2-dc4c-4b18-f518-992bc7069595"
      },
      "outputs": [
        {
          "data": {
            "image/png": "[encoded data removed]",
            "text/plain": [
              "<Figure size 1400x500 with 1 Axes>"
            ]
          },
          "metadata": {},
          "output_type": "display_data"
        },
        {
          "data": {
            "image/png": "[encoded data removed]",
            "text/plain": [
              "<Figure size 1400x500 with 1 Axes>"
            ]
          },
          "metadata": {},
          "output_type": "display_data"
        },
        {
          "data": {
            "image/png": "[encoded data removed]",
            "text/plain": [
              "<Figure size 1400x500 with 1 Axes>"
            ]
          },
          "metadata": {},
          "output_type": "display_data"
        }
      ],
      "source": [
        "sorted_categories_train = category_counter('cat',TRAIN_FILE)\n",
        "sorted_categories_val = category_counter('cat',VAL_FILE)\n",
        "sorted_categories_test = category_counter('cat',TEST_FILE)\n",
        "\n",
        "plot_stratified_split(sorted_categories_train,'orange','Train')\n",
        "plot_stratified_split(sorted_categories_val,'green','Valdation')\n",
        "plot_stratified_split(sorted_categories_test,'blue','Test')"
      ]
    },
    {
      "cell_type": "code",
      "execution_count": 78,
      "metadata": {
        "colab": {
          "base_uri": "https://localhost:8080/"
        },
        "id": "Tj0ZN2GW8qRn",
        "outputId": "73b40521-8094-4bdb-9c8e-015d55cba79b"
      },
      "outputs": [
        {
          "name": "stdout",
          "output_type": "stream",
          "text": [
            "Occorrenze per categoria (ordinate):\n",
            "{'STAKEHOLDER': 4483, 'SUSTAINABILITY': 3683, 'POLICIES_AND_STRATEGIES': 2971, 'GREEN_ENERGY': 2636, 'CONFERENCE': 1799, 'ENVIRONMENTAL_ISSUE': 1723, 'ORGANIZATION': 1177}\n",
            "\n",
            "Occorrenze per polarità (ordinate):\n",
            "{'neutral': 10099, 'positive': 6727, 'negative': 1646}\n"
          ]
        }
      ],
      "source": [
        "sorted_categories = category_counter('cat',TRAIN_FILE)\n",
        "sorted_polarities = category_counter('pol',TRAIN_FILE)\n",
        "\n",
        "## Esempio training set ##\n",
        "d_cat_count = {k: v for k, v in sorted_categories}\n",
        "d_pol_count = {k: v for k, v in sorted_polarities}\n",
        "print(\"Occorrenze per categoria (ordinate):\")\n",
        "print(d_cat_count)\n",
        "print(\"\\nOccorrenze per polarità (ordinate):\")\n",
        "print(d_pol_count)"
      ]
    },
    {
      "cell_type": "markdown",
      "metadata": {
        "id": "MgMIz9Pl1OP9"
      },
      "source": [
        "# Prepare data for the model"
      ]
    },
    {
      "cell_type": "markdown",
      "metadata": {
        "id": "DXVZ7j-enAto"
      },
      "source": [
        "In this section we transform the data in a model-readable format"
      ]
    },
    {
      "cell_type": "code",
      "execution_count": 25,
      "metadata": {
        "colab": {
          "base_uri": "https://localhost:8080/"
        },
        "id": "wYEfGU7I3u-M",
        "outputId": "e79ef636-0944-439a-a6b2-2060361238d1"
      },
      "outputs": [
        {
          "data": {
            "text/plain": [
              "{0: 'positive', 1: 'neutral', 2: 'negative'}"
            ]
          },
          "execution_count": 25,
          "metadata": {},
          "output_type": "execute_result"
        }
      ],
      "source": [
        "## Positional Encoding of polarity ##\n",
        "sentiment2id = {'positive': 0, 'neutral':1, 'negative': 2}\n",
        "id2sentiment = {v:k for k, v in sentiment2id.items()}\n",
        "id2sentiment"
      ]
    },
    {
      "cell_type": "code",
      "execution_count": 26,
      "metadata": {
        "colab": {
          "base_uri": "https://localhost:8080/"
        },
        "id": "-0Zm9wC43Lst",
        "outputId": "e8080ba9-876c-4062-926b-71cd95928e6d"
      },
      "outputs": [
        {
          "data": {
            "text/plain": [
              "{1: 'GREEN_ENERGY',\n",
              " 2: 'SUSTAINABILITY',\n",
              " 3: 'ENVIRONMENTAL_ISSUE',\n",
              " 4: 'STAKEHOLDER',\n",
              " 5: 'ORGANIZATION',\n",
              " 6: 'CONFERENCE',\n",
              " 7: 'POLICIES_AND_STRATEGIES'}"
            ]
          },
          "execution_count": 26,
          "metadata": {},
          "output_type": "execute_result"
        }
      ],
      "source": [
        "## Positional Encoding of span categories ##\n",
        "tag2id = {'GREEN_ENERGY': 1,'SUSTAINABILITY' : 2,'ENVIRONMENTAL_ISSUE': 3,'STAKEHOLDER': 4,'ORGANIZATION' : 5,'CONFERENCE':6,'POLICIES_AND_STRATEGIES':7}\n",
        "id2tag = {v:k for k, v in tag2id.items()}\n",
        "id2tag"
      ]
    },
    {
      "cell_type": "code",
      "execution_count": 27,
      "metadata": {
        "colab": {
          "base_uri": "https://localhost:8080/"
        },
        "id": "FPLYxqSK4zpx",
        "outputId": "106edd04-4987-4d54-cb1b-00be889173dc"
      },
      "outputs": [
        {
          "data": {
            "text/plain": [
              "{0: 'B-GREEN_ENERGY',\n",
              " 1: 'I-GREEN_ENERGY',\n",
              " 2: 'B-SUSTAINABILITY',\n",
              " 3: 'I-SUSTAINABILITY',\n",
              " 4: 'B-ENVIRONMENTAL_ISSUE',\n",
              " 5: 'I-ENVIRONMENTAL_ISSUE',\n",
              " 6: 'B-STAKEHOLDER',\n",
              " 7: 'I-STAKEHOLDER',\n",
              " 8: 'B-ORGANIZATION',\n",
              " 9: 'I-ORGANIZATION',\n",
              " 10: 'B-CONFERENCE',\n",
              " 11: 'I-CONFERENCE',\n",
              " 12: 'B-POLICIES_AND_STRATEGIES',\n",
              " 13: 'I-POLICIES_AND_STRATEGIES'}"
            ]
          },
          "execution_count": 27,
          "metadata": {},
          "output_type": "execute_result"
        }
      ],
      "source": [
        "## IOB tagging strategies (I means Inside and B Beginning, use this to identify the token related to the spans) ##\n",
        "label2id = {\n",
        "    **{f'B-{k}': 2*v for v, k in enumerate(tag2id.keys())},\n",
        "    **{f'I-{k}': 2*v + 1 for v, k in enumerate(tag2id.keys())}\n",
        "}\n",
        "\n",
        "id2label = {v: k for k, v in label2id.items()}\n",
        "id2label = dict(sorted(id2label.items()))\n",
        "id2label"
      ]
    },
    {
      "cell_type": "code",
      "execution_count": null,
      "metadata": {
        "id": "aqAh7YJprtys"
      },
      "outputs": [],
      "source": [
        "roberta_tokenizer = AutoTokenizer.from_pretrained(\"roberta-base\")"
      ]
    },
    {
      "cell_type": "code",
      "execution_count": null,
      "metadata": {
        "id": "3ovoGMKn4rEu"
      },
      "outputs": [],
      "source": [
        "data_files = {\"train\": TRAIN_FILE, \"test\": TEST_FILE, \"val\": VAL_FILE}\n",
        "dataset = load_dataset(\"json\", data_files=data_files)"
      ]
    },
    {
      "cell_type": "code",
      "execution_count": 30,
      "metadata": {
        "colab": {
          "base_uri": "https://localhost:8080/"
        },
        "id": "YAX0WRUL2jTt",
        "outputId": "bc554a7f-58b1-4300-87f3-d908b80ee842"
      },
      "outputs": [
        {
          "data": {
            "text/plain": [
              "Dataset({\n",
              "    features: ['text', 'labels'],\n",
              "    num_rows: 4081\n",
              "})"
            ]
          },
          "execution_count": 30,
          "metadata": {},
          "output_type": "execute_result"
        }
      ],
      "source": [
        "train_ds = dataset['train']\n",
        "train_ds"
      ]
    },
    {
      "cell_type": "code",
      "execution_count": 31,
      "metadata": {
        "colab": {
          "base_uri": "https://localhost:8080/"
        },
        "id": "tDubSRDM3AZs",
        "outputId": "1f39f263-8fdc-4b27-b2b4-c4002eac19e6"
      },
      "outputs": [
        {
          "data": {
            "text/plain": [
              "Dataset({\n",
              "    features: ['text', 'labels'],\n",
              "    num_rows: 502\n",
              "})"
            ]
          },
          "execution_count": 31,
          "metadata": {},
          "output_type": "execute_result"
        }
      ],
      "source": [
        "test_ds = dataset['test']\n",
        "test_ds"
      ]
    },
    {
      "cell_type": "code",
      "execution_count": 32,
      "metadata": {
        "colab": {
          "base_uri": "https://localhost:8080/"
        },
        "id": "06BDRxbpaycC",
        "outputId": "108c37c3-0643-4247-9ee4-033e216392bb"
      },
      "outputs": [
        {
          "data": {
            "text/plain": [
              "Dataset({\n",
              "    features: ['text', 'labels'],\n",
              "    num_rows: 471\n",
              "})"
            ]
          },
          "execution_count": 32,
          "metadata": {},
          "output_type": "execute_result"
        }
      ],
      "source": [
        "val_ds = dataset['val']\n",
        "val_ds"
      ]
    },
    {
      "cell_type": "code",
      "execution_count": 33,
      "metadata": {
        "id": "9VXtdwp0438i"
      },
      "outputs": [],
      "source": [
        "MAX_LENGTH = 256\n",
        "\n",
        "def tokenize_and_adjust_labels(sample, tokenizer=roberta_tokenizer):\n",
        "    \"\"\"\n",
        "    Args:\n",
        "        - sample (dict): {\"text\": \"...\", \"labels\": [{\"start\": ..., \"end\": ..., \"span\": ...}, ...]}\n",
        "    Returns:\n",
        "        - The tokenized version of `sample` and the labels of each token.\n",
        "    \"\"\"\n",
        "    # Tokenize the text, keep the start and end positions of tokens with `return_offsets_mapping` option\n",
        "    tokenized = tokenizer(sample[\"text\"],\n",
        "                          return_offsets_mapping=True,\n",
        "                          padding=\"max_length\",\n",
        "                          max_length=MAX_LENGTH,\n",
        "                          truncation=True)\n",
        "\n",
        "    # Initialize the labels for categories and sentiments (for each token)\n",
        "    labels_cat = [[0 for _ in label2id.keys()] for _ in range(MAX_LENGTH)]\n",
        "    labels_pol = [[0 for _ in sentiment2id.keys()] for _ in range(MAX_LENGTH)]\n",
        "\n",
        "    # Scan all the tokens and spans, assign labels accordingly\n",
        "    for (token_start, token_end), token_labels_cat, token_labels_pol in zip(tokenized[\"offset_mapping\"], labels_cat, labels_pol):\n",
        "        # Track the assigned sentiment for the current token\n",
        "        sentiment = handle_overlapping_spans(token_start, token_end, sample[\"labels\"])\n",
        "\n",
        "        if sentiment:\n",
        "            token_labels_pol[sentiment2id[sentiment]] = 1\n",
        "\n",
        "        # Assign category labels based on the span position\n",
        "        for span in sample[\"labels\"]:\n",
        "            if span is None or span.get('category') is None:\n",
        "                print('Error to identify the span...')\n",
        "                continue\n",
        "            try:\n",
        "                role = get_token_role_in_span(token_start, token_end, span[\"start\"], span[\"end\"])\n",
        "\n",
        "                if role == \"B\":\n",
        "                    token_labels_cat[label2id[f\"B-{span['category']}\"]] = 1\n",
        "\n",
        "                elif role == \"I\":\n",
        "                    token_labels_cat[label2id[f\"I-{span['category']}\"]] = 1\n",
        "\n",
        "            except Exception as e:\n",
        "                print(e)\n",
        "                print('Error')\n",
        "                continue\n",
        "\n",
        "    return {**tokenized, \"labels_cat\": labels_cat, \"labels_pol\": labels_pol}\n"
      ]
    },
    {
      "cell_type": "code",
      "execution_count": 34,
      "metadata": {
        "id": "RrTjj3KNajV6"
      },
      "outputs": [],
      "source": [
        "class ABSADataset(Dataset):\n",
        "    def __init__(self, dataset,test = False):\n",
        "        self.dataset = dataset\n",
        "        self.test = test\n",
        "\n",
        "    def __len__(self):\n",
        "        return len(self.dataset)\n",
        "\n",
        "    def __getitem__(self, idx):\n",
        "        item = self.dataset[idx]\n",
        "        input_ids = torch.tensor(item[\"input_ids\"])\n",
        "        text = item[\"text\"]\n",
        "        attention_mask = torch.tensor(item[\"attention_mask\"])\n",
        "        labels_cat = torch.tensor(item[\"labels_cat\"])\n",
        "        labels_pol = torch.tensor(item[\"labels_pol\"])\n",
        "\n",
        "        if not self.test:\n",
        "            return {\n",
        "                \"input_ids\": input_ids,\n",
        "                \"attention_mask\": attention_mask,\n",
        "                \"labels_cat\": labels_cat,\n",
        "                \"labels_pol\": labels_pol\n",
        "            }\n",
        "\n",
        "        else:\n",
        "            return {\n",
        "                \"text\": text,\n",
        "                \"input_ids\": input_ids,\n",
        "                \"attention_mask\": attention_mask,\n",
        "                \"labels_cat\": labels_cat,\n",
        "                \"labels_pol\": labels_pol\n",
        "            }"
      ]
    },
    {
      "cell_type": "code",
      "execution_count": null,
      "metadata": {
        "id": "v-e3_9qvsId7"
      },
      "outputs": [],
      "source": [
        "tokenized_train_ds = train_ds.map(tokenize_and_adjust_labels)\n",
        "tokenized_val_ds = val_ds.map(tokenize_and_adjust_labels)"
      ]
    },
    {
      "cell_type": "code",
      "execution_count": 36,
      "metadata": {
        "id": "ZubQVJ9PabTa"
      },
      "outputs": [],
      "source": [
        "train_dataset = ABSADataset(tokenized_train_ds)\n",
        "val_dataset = ABSADataset(tokenized_val_ds)"
      ]
    },
    {
      "cell_type": "markdown",
      "metadata": {
        "id": "mrbRPQw-nAtr"
      },
      "source": [
        "Define the weights for each class, due to the class imbalance"
      ]
    },
    {
      "cell_type": "code",
      "execution_count": 37,
      "metadata": {
        "colab": {
          "base_uri": "https://localhost:8080/"
        },
        "id": "ghJJsdpmyVuy",
        "outputId": "758ac94c-b7d4-4a76-80c3-066c9396d4bc"
      },
      "outputs": [
        {
          "data": {
            "text/plain": [
              "{'B-GREEN_ENERGY': 3.8267708303803434,\n",
              " 'I-GREEN_ENERGY': 2.4890295573657237,\n",
              " 'B-SUSTAINABILITY': 3.5065924390377448,\n",
              " 'I-SUSTAINABILITY': 2.2126445289359427,\n",
              " 'B-ENVIRONMENTAL_ISSUE': 4.2655805954642885,\n",
              " 'I-ENVIRONMENTAL_ISSUE': 2.67961955013743,\n",
              " 'B-STAKEHOLDER': 3.3173440037953483,\n",
              " 'I-STAKEHOLDER': 1.745000351440638,\n",
              " 'B-ORGANIZATION': 4.618917967401507,\n",
              " 'I-ORGANIZATION': 3.191676438468514,\n",
              " 'B-CONFERENCE': 4.233457495628679,\n",
              " 'I-CONFERENCE': 2.472239025386419,\n",
              " 'B-POLICIES_AND_STRATEGIES': 3.779087670573611,\n",
              " 'I-POLICIES_AND_STRATEGIES': 1.7385368044246183}"
            ]
          },
          "execution_count": 37,
          "metadata": {},
          "output_type": "execute_result"
        }
      ],
      "source": [
        "d_cat,n_cat = control_count_output_aggregated(tokenized_train_ds,'labels_cat',id2label,roberta_tokenizer)\n",
        "dw_cat = compute_weights(n_cat,d_cat)\n",
        "dw_cat"
      ]
    },
    {
      "cell_type": "code",
      "execution_count": 38,
      "metadata": {
        "colab": {
          "base_uri": "https://localhost:8080/"
        },
        "id": "Squ_xlKk3XVu",
        "outputId": "5249421e-d392-47f3-dab2-21ca2c448e84"
      },
      "outputs": [
        {
          "data": {
            "text/plain": [
              "[3.8267708303803434,\n",
              " 2.4890295573657237,\n",
              " 3.5065924390377448,\n",
              " 2.2126445289359427,\n",
              " 4.2655805954642885,\n",
              " 2.67961955013743,\n",
              " 3.3173440037953483,\n",
              " 1.745000351440638,\n",
              " 4.618917967401507,\n",
              " 3.191676438468514,\n",
              " 4.233457495628679,\n",
              " 2.472239025386419,\n",
              " 3.779087670573611,\n",
              " 1.7385368044246183]"
            ]
          },
          "execution_count": 38,
          "metadata": {},
          "output_type": "execute_result"
        }
      ],
      "source": [
        "w_cat = assign_weights(id2label,dw_cat)\n",
        "w_cat"
      ]
    },
    {
      "cell_type": "code",
      "execution_count": 39,
      "metadata": {
        "colab": {
          "base_uri": "https://localhost:8080/"
        },
        "id": "i32WSbyq-BU_",
        "outputId": "3f3c0bb9-0dd9-44d0-b270-b4f24d1e4fbc"
      },
      "outputs": [
        {
          "data": {
            "text/plain": [
              "{'positive': 1.2863031654153023,\n",
              " 'neutral': 1.0692349950322253,\n",
              " 'negative': 2.4395308082098586}"
            ]
          },
          "execution_count": 39,
          "metadata": {},
          "output_type": "execute_result"
        }
      ],
      "source": [
        "d_pol,n_pol = control_count_output_aggregated(tokenized_train_ds,'labels_pol',id2sentiment,roberta_tokenizer)\n",
        "dw_pol = compute_weights(n_pol,d_pol)\n",
        "dw_pol"
      ]
    },
    {
      "cell_type": "code",
      "execution_count": 40,
      "metadata": {
        "colab": {
          "base_uri": "https://localhost:8080/"
        },
        "id": "A3w_qcwO9xMq",
        "outputId": "73ef8028-c582-43b7-fc8d-df5cca21c8f5"
      },
      "outputs": [
        {
          "data": {
            "text/plain": [
              "[1.2863031654153023, 1.0692349950322253, 2.4395308082098586]"
            ]
          },
          "execution_count": 40,
          "metadata": {},
          "output_type": "execute_result"
        }
      ],
      "source": [
        "w_pol = assign_weights(id2sentiment,dw_pol)\n",
        "w_pol"
      ]
    },
    {
      "cell_type": "markdown",
      "metadata": {
        "id": "auB2qxbFnAtt"
      },
      "source": [
        "Visualize the token level segmentation, with the associated label"
      ]
    },
    {
      "cell_type": "code",
      "execution_count": 41,
      "metadata": {
        "id": "q645t0_Qa4i_"
      },
      "outputs": [],
      "source": [
        "idx_overlap = find_overlapping_spans(tokenized_train_ds)"
      ]
    },
    {
      "cell_type": "code",
      "execution_count": 42,
      "metadata": {
        "id": "4Fd8BIXDojAv"
      },
      "outputs": [],
      "source": [
        "random.shuffle(idx_overlap)\n",
        "i = idx_overlap[0]"
      ]
    },
    {
      "cell_type": "code",
      "execution_count": 43,
      "metadata": {
        "colab": {
          "base_uri": "https://localhost:8080/"
        },
        "id": "bW_ug25vv9DC",
        "outputId": "3a88dcba-2e8c-47ae-ebb5-c26cc281e72b"
      },
      "outputs": [
        {
          "name": "stdout",
          "output_type": "stream",
          "text": [
            "--------Token---------|--------Labels----------\n",
            " <s>                  | []\n",
            " EU                   | ['B-STAKEHOLDER']\n",
            "  climate             | ['I-STAKEHOLDER']\n",
            "  boss                | ['I-STAKEHOLDER']\n",
            "  sees                | ['B-POLICIES_AND_STRATEGIES']\n",
            "  a                   | ['I-POLICIES_AND_STRATEGIES']\n",
            "  role                | ['I-POLICIES_AND_STRATEGIES']\n",
            "  for                 | ['I-POLICIES_AND_STRATEGIES']\n",
            "  natural             | ['B-GREEN_ENERGY', 'I-POLICIES_AND_STRATEGIES']\n",
            "  gas                 | ['I-GREEN_ENERGY', 'I-POLICIES_AND_STRATEGIES']\n",
            "  in                  | ['I-POLICIES_AND_STRATEGIES']\n",
            "  the                 | ['I-POLICIES_AND_STRATEGIES']\n",
            "  green               | ['I-POLICIES_AND_STRATEGIES']\n",
            "  energy              | ['I-POLICIES_AND_STRATEGIES']\n",
            "  transition          | ['I-POLICIES_AND_STRATEGIES']\n",
            "  -                   | []\n",
            "                      | []\n",
            "  As                  | ['B-POLICIES_AND_STRATEGIES']\n",
            "  long                | ['I-POLICIES_AND_STRATEGIES']\n",
            "  as                  | ['I-POLICIES_AND_STRATEGIES']\n",
            "  we                  | ['I-POLICIES_AND_STRATEGIES']\n",
            "  do                  | ['I-POLICIES_AND_STRATEGIES']\n",
            "  it                  | ['I-POLICIES_AND_STRATEGIES']\n",
            "  with                | ['I-POLICIES_AND_STRATEGIES']\n",
            "  an                  | ['I-POLICIES_AND_STRATEGIES']\n",
            "  eye                 | ['I-POLICIES_AND_STRATEGIES']\n",
            "  of                  | ['I-POLICIES_AND_STRATEGIES']\n",
            "  only                | ['I-POLICIES_AND_STRATEGIES']\n",
            "  doing               | ['I-POLICIES_AND_STRATEGIES']\n",
            "  this                | ['I-POLICIES_AND_STRATEGIES']\n",
            "  for                 | ['I-POLICIES_AND_STRATEGIES']\n",
            "  a                   | ['I-POLICIES_AND_STRATEGIES']\n",
            "  period              | ['I-POLICIES_AND_STRATEGIES']\n",
            " \"                    | []\n",
            "                      | []\n"
          ]
        }
      ],
      "source": [
        "sample = tokenized_train_ds[i]\n",
        "control_output(sample,\"labels_cat\",id2label,roberta_tokenizer)"
      ]
    },
    {
      "cell_type": "code",
      "execution_count": 44,
      "metadata": {
        "colab": {
          "base_uri": "https://localhost:8080/"
        },
        "id": "YUnWQyYmwFVE",
        "outputId": "46225d65-22da-442e-921c-ac9f93d34647"
      },
      "outputs": [
        {
          "name": "stdout",
          "output_type": "stream",
          "text": [
            "--------Token---------|--------Labels----------\n",
            " <s>                  | ['neutral']\n",
            " EU                   | ['neutral']\n",
            "  climate             | ['neutral']\n",
            "  boss                | ['neutral']\n",
            "  sees                | ['neutral']\n",
            "  a                   | ['neutral']\n",
            "  role                | ['neutral']\n",
            "  for                 | ['neutral']\n",
            "  natural             | ['negative']\n",
            "  gas                 | ['negative']\n",
            "  in                  | ['neutral']\n",
            "  the                 | ['neutral']\n",
            "  green               | ['neutral']\n",
            "  energy              | ['neutral']\n",
            "  transition          | ['neutral']\n",
            "  -                   | []\n",
            "                      | []\n",
            "  As                  | ['neutral']\n",
            "  long                | ['neutral']\n",
            "  as                  | ['neutral']\n",
            "  we                  | ['neutral']\n",
            "  do                  | ['neutral']\n",
            "  it                  | ['neutral']\n",
            "  with                | ['neutral']\n",
            "  an                  | ['neutral']\n",
            "  eye                 | ['neutral']\n",
            "  of                  | ['neutral']\n",
            "  only                | ['neutral']\n",
            "  doing               | ['neutral']\n",
            "  this                | ['neutral']\n",
            "  for                 | ['neutral']\n",
            "  a                   | ['neutral']\n",
            "  period              | ['neutral']\n",
            " \"                    | ['neutral']\n",
            "                      | []\n"
          ]
        }
      ],
      "source": [
        "sample = tokenized_train_ds[i]\n",
        "control_output(sample,\"labels_pol\",id2sentiment,roberta_tokenizer)"
      ]
    },
    {
      "cell_type": "markdown",
      "metadata": {
        "id": "QylqYFp0Yk7f"
      },
      "source": [
        "# Define the model"
      ]
    },
    {
      "cell_type": "markdown",
      "metadata": {
        "id": "7vJ0nbSenAtu"
      },
      "source": [
        "The model used is a Roberta pretrained model, we define a multitask model that works with two heads of classification one for the \"span categorizer\" task and another for \"sentiment analysis\""
      ]
    },
    {
      "cell_type": "code",
      "execution_count": 45,
      "metadata": {
        "id": "eLrkvofoeOCo"
      },
      "outputs": [],
      "source": [
        "class FocalLoss(nn.Module):\n",
        "    def __init__(self, alpha=1, gamma=2, device = \"cuda\"):\n",
        "        super(FocalLoss, self).__init__()\n",
        "        self.alpha = alpha\n",
        "        self.gamma = gamma\n",
        "        self.device = device\n",
        "\n",
        "    def focal_loss(self, logits, labels, weights, alpha=1, gamma=2):\n",
        "        bce_loss = F.binary_cross_entropy_with_logits(logits, labels, reduction=\"none\")\n",
        "        bce_loss = bce_loss.to(self.device)\n",
        "        pt = torch.exp(-bce_loss)\n",
        "        pt = pt.to(self.device)\n",
        "        if weights is not None:\n",
        "            weights = weights.to(self.device)\n",
        "            focal_loss = alpha * weights * ((1 - pt) ** gamma) * bce_loss\n",
        "        else:\n",
        "            focal_loss = alpha * ((1 - pt) ** gamma) * bce_loss\n",
        "        return focal_loss.mean()"
      ]
    },
    {
      "cell_type": "code",
      "execution_count": 46,
      "metadata": {
        "id": "eu1DkRZDa5Hd"
      },
      "outputs": [],
      "source": [
        "from transformers import AutoModelForTokenClassification, TrainingArguments, Trainer\n",
        "from transformers import RobertaPreTrainedModel, RobertaModel\n",
        "\n",
        "from transformers.utils import (\n",
        "    add_code_sample_docstrings,\n",
        "    add_start_docstrings,\n",
        "    add_start_docstrings_to_model_forward,\n",
        "    logging,\n",
        "    replace_return_docstrings,\n",
        ")\n",
        "from transformers.models.roberta.modeling_roberta import (\n",
        "    ROBERTA_INPUTS_DOCSTRING,\n",
        "    ROBERTA_START_DOCSTRING,\n",
        "    RobertaEmbeddings,\n",
        "    #_TOKENIZER_FOR_DOC\n",
        ")\n",
        "\n",
        "from typing import Optional, Union, Tuple\n",
        "from transformers.modeling_outputs import TokenClassifierOutput\n",
        "\n",
        "\n",
        "class RobertaForABSA(RobertaPreTrainedModel):\n",
        "    _keys_to_ignore_on_load_unexpected = [r\"pooler\"]\n",
        "    _keys_to_ignore_on_load_missing = [r\"position_ids\"]\n",
        "\n",
        "    def __init__(self, config):\n",
        "        super().__init__(config)\n",
        "        self.num_labels_cat = config.num_labels_cat\n",
        "        self.num_labels_pol = config.num_labels_pol\n",
        "        self.w_cat = torch.tensor(config.w_cat, dtype=torch.float32)\n",
        "        self.w_pol = torch.tensor(config.w_pol, dtype=torch.float32)\n",
        "\n",
        "\n",
        "        self.roberta = RobertaModel(config, add_pooling_layer=False)\n",
        "\n",
        "        self.w_cat = self.w_cat.to(self.device)\n",
        "        self.w_pol = self.w_pol.to(self.device)\n",
        "        self.FL = FocalLoss()\n",
        "\n",
        "        classifier_dropout = (\n",
        "            config.classifier_dropout if config.classifier_dropout is not None else config.hidden_dropout_prob\n",
        "        )\n",
        "        self.dropout = nn.Dropout(classifier_dropout)\n",
        "\n",
        "        ## First head for Span Categorization Task\n",
        "        self.classifier1 = nn.Linear(config.hidden_size, self.num_labels_cat)\n",
        "        ## Second head for Sentiment Analysis Task\n",
        "        self.classifier2 = nn.Linear(config.hidden_size, self.num_labels_pol)\n",
        "\n",
        "        self.post_init()\n",
        "\n",
        "\n",
        "    @add_start_docstrings_to_model_forward(ROBERTA_INPUTS_DOCSTRING.format(\"batch_size, sequence_length\"))\n",
        "    def forward(\n",
        "        self,\n",
        "        input_ids: Optional[torch.LongTensor] = None,\n",
        "        attention_mask: Optional[torch.FloatTensor] = None,\n",
        "        token_type_ids: Optional[torch.LongTensor] = None,\n",
        "        position_ids: Optional[torch.LongTensor] = None,\n",
        "        head_mask: Optional[torch.FloatTensor] = None,\n",
        "        inputs_embeds: Optional[torch.FloatTensor] = None,\n",
        "        labels_cat: Optional[torch.FloatTensor] = None,\n",
        "        labels_pol: Optional[torch.FloatTensor] = None,\n",
        "        output_attentions: Optional[bool] = None,\n",
        "        output_hidden_states: Optional[bool] = None,\n",
        "        return_dict: Optional[bool] = None,\n",
        "    ) -> Union[Tuple[torch.Tensor], dict]:\n",
        "        return_dict = return_dict if return_dict is not None else self.config.use_return_dict\n",
        "\n",
        "        outputs = self.roberta(\n",
        "            input_ids,\n",
        "            attention_mask=attention_mask,\n",
        "            token_type_ids=token_type_ids,\n",
        "            position_ids=position_ids,\n",
        "            head_mask=head_mask,\n",
        "            inputs_embeds=inputs_embeds,\n",
        "            output_attentions=output_attentions,\n",
        "            output_hidden_states=output_hidden_states,\n",
        "            return_dict=return_dict,\n",
        "        )\n",
        "\n",
        "        sequence_output = outputs[0]\n",
        "        sequence_output = self.dropout(sequence_output)\n",
        "\n",
        "        ## First Head logits\n",
        "        logits_cat = self.classifier1(sequence_output)\n",
        "        ## Second Head logits\n",
        "        logits_pol = self.classifier2(sequence_output)\n",
        "\n",
        "\n",
        "        ## Loss\n",
        "        loss_cat = None\n",
        "        loss_pol = None\n",
        "        if labels_cat is not None:\n",
        "            loss_cat = self.FL.focal_loss(logits_cat, labels_cat.float(), weights=self.w_cat)\n",
        "        if labels_pol is not None:\n",
        "            loss_pol = self.FL.focal_loss(logits_pol, labels_pol.float(), weights=self.w_pol)\n",
        "\n",
        "        alpha = 0.98\n",
        "        loss = None\n",
        "        if loss_cat is not None and loss_pol is not None:\n",
        "            loss = (alpha * loss_cat) + (( 1 - alpha) * loss_pol)\n",
        "        elif loss_cat is not None:\n",
        "            loss = loss_cat\n",
        "        elif loss_pol is not None:\n",
        "            loss = loss_pol\n",
        "\n",
        "        # Output\n",
        "        if not return_dict:\n",
        "            output = (logits_cat, logits_pol) + outputs[2:]\n",
        "            return ((loss,) + output) if loss is not None else output\n",
        "\n",
        "        return TokenClassifierOutput(\n",
        "            loss=loss,\n",
        "            logits=(logits_cat, logits_pol),\n",
        "            hidden_states=outputs.hidden_states,\n",
        "            attentions=outputs.attentions,\n",
        "        )\n"
      ]
    },
    {
      "cell_type": "markdown",
      "metadata": {
        "id": "1idosHFG0dac"
      },
      "source": [
        "# Define the metrics"
      ]
    },
    {
      "cell_type": "code",
      "execution_count": 170,
      "metadata": {
        "id": "EEzPS3ET1nui"
      },
      "outputs": [],
      "source": [
        "def divide(a: int, b: int):\n",
        "    return a / b if b > 0 else 0"
      ]
    },
    {
      "cell_type": "code",
      "execution_count": 171,
      "metadata": {
        "id": "OLG_nNssbsnt"
      },
      "outputs": [],
      "source": [
        "## Aggregate the B-I tag in one label, for each category in CATEGORIES ##\n",
        "def bitwise_or_pairs(arr):\n",
        "    \"\"\"\n",
        "    Applies bitwise OR operation to consecutive pairs in an array.\n",
        "\n",
        "    Args:\n",
        "        - arr (array): The input array.\n",
        "\n",
        "    Returns:\n",
        "        - result (array): The array after applying bitwise OR operation.\n",
        "    \"\"\"\n",
        "    arr_tmp = arr.tolist()\n",
        "    # Explicitly cast the data type to integers before applying bitwise OR\n",
        "    result = []\n",
        "\n",
        "    for element in arr_tmp:\n",
        "        for i in range(0,len(element),2):\n",
        "            result.append(int(element[i]) | int(element[i+1]))\n",
        "\n",
        "    result = np.array(result).reshape(-1,len(CATEGORIES))\n",
        "    return result"
      ]
    },
    {
      "cell_type": "code",
      "execution_count": 172,
      "metadata": {
        "id": "s8ivanaU0gtr"
      },
      "outputs": [],
      "source": [
        "def compute_metrics(y_pred, y_true, n_labels, id2label, task ,threshold = 0.5):\n",
        "    y_probs = torch.sigmoid(torch.from_numpy(y_pred))\n",
        "    y_pred = np.where(y_probs.numpy() > threshold, np.ones(y_pred.shape), np.zeros(y_pred.shape))\n",
        "\n",
        "    y_true = y_true.reshape(-1, n_labels)\n",
        "    y_pred = y_pred.reshape(-1, n_labels)\n",
        "\n",
        "    metrics = {}\n",
        "\n",
        "    cm = multilabel_confusion_matrix(y_true, y_pred)\n",
        "\n",
        "    for label_idx, matrix in enumerate(cm):\n",
        "\n",
        "        tp, fp, fn = matrix[1, 1], matrix[0, 1], matrix[1, 0]\n",
        "        precision = divide(tp, tp + fp)\n",
        "        recall = divide(tp, tp + fn)\n",
        "        f1 = divide(2 * precision * recall, precision + recall)\n",
        "\n",
        "\n",
        "        metrics[f\"f1_{id2label[label_idx]}\"] = f1\n",
        "        metrics[f\"precision_{id2label[label_idx]}\"] = precision\n",
        "        metrics[f\"recall_{id2label[label_idx]}\"] = recall\n",
        "\n",
        "\n",
        "    macro_f1 = np.mean([metrics[f\"f1_{id2label[i]}\"] for i in range(n_labels)])\n",
        "    macro_precision = np.mean([metrics[f\"precision_{id2label[i]}\"] for i in range(n_labels)])\n",
        "    macro_recall = np.mean([metrics[f\"recall_{id2label[i]}\"] for i in range(n_labels)])\n",
        "\n",
        "\n",
        "    if task == \"task1\":\n",
        "        y_true_aggregated = bitwise_or_pairs(y_true)\n",
        "        y_pred_aggregated = bitwise_or_pairs(y_pred)\n",
        "\n",
        "\n",
        "        cm_aggregated = multilabel_confusion_matrix(y_true_aggregated, y_pred_aggregated)\n",
        "\n",
        "        for label_idx, matrix in enumerate(cm_aggregated):\n",
        "            tp, fp, fn = matrix[1, 1], matrix[0, 1], matrix[1, 0]\n",
        "            precision = divide(tp, tp + fp)\n",
        "            recall = divide(tp, tp + fn)\n",
        "            f1 = divide(2 * precision * recall, precision + recall)\n",
        "\n",
        "            metrics[f\"f1_{id2tag[label_idx + 1]}_comb\"] = f1\n",
        "            metrics[f\"precision_{id2tag[label_idx + 1]}_comb\"] = precision\n",
        "            metrics[f\"recall_{id2tag[label_idx + 1]}_comb\"] = recall\n",
        "\n",
        "        macro_f1_aggregated = np.mean([metrics[f\"f1_{id2tag[i]}_comb\"] for i in range(1,len(CATEGORIES)+1)])\n",
        "        macro_precision_aggregated = np.mean([metrics[f\"precision_{id2tag[i]}_comb\"] for i in range(1,len(CATEGORIES)+1)])\n",
        "        macro_recall_aggregated = np.mean([metrics[f\"recall_{id2tag[i]}_comb\"] for i in range(1,len(CATEGORIES)+1)])\n",
        "\n",
        "\n",
        "    metrics[f\"macro_f1_{task}\"] = macro_f1\n",
        "    metrics[f\"macro_precision_{task}\"] = macro_precision\n",
        "    metrics[f\"macro_recall_{task}\"] = macro_recall\n",
        "\n",
        "    if task == \"task1\":\n",
        "        metrics[f\"macro_f1_aggregated_{task}\"] = macro_f1_aggregated\n",
        "        metrics[f\"macro_precision_aggregated_{task}\"] = macro_precision_aggregated\n",
        "        metrics[f\"macro_recall_aggregated_{task}\"] = macro_recall_aggregated\n",
        "\n",
        "    return metrics"
      ]
    },
    {
      "cell_type": "code",
      "execution_count": 173,
      "metadata": {
        "id": "xEYcnVo80gng"
      },
      "outputs": [],
      "source": [
        "def compute_multitask_metrics(eval_pred):\n",
        "\n",
        "    predictions, labels = eval_pred\n",
        "    logits_cat, logits_pol = predictions\n",
        "    true_labels_cat, true_labels_pol = labels\n",
        "\n",
        "\n",
        "    num_classes_task1 = len(id2label)\n",
        "    num_classes_task2 = len(id2sentiment)\n",
        "\n",
        "    # Calcolo delle metriche per entrambi i task\n",
        "    metrics_task1 = compute_metrics(logits_cat, true_labels_cat, num_classes_task1, id2label,\"task1\")\n",
        "    metrics_task2 = compute_metrics(logits_pol, true_labels_pol, num_classes_task2, id2sentiment,\"task2\")\n",
        "\n",
        "\n",
        "    overall_macro_f1 = (metrics_task1[\"macro_f1_aggregated_task1\"] + metrics_task2[\"macro_f1_task2\"]) / 2\n",
        "    overall_macro_precision = (metrics_task1[\"macro_precision_aggregated_task1\"] + metrics_task2[\"macro_precision_task2\"]) / 2\n",
        "    overall_macro_recall = (metrics_task1[\"macro_recall_aggregated_task1\"] + metrics_task2[\"macro_recall_task2\"]) / 2\n",
        "\n",
        "\n",
        "    combined_metrics = {\n",
        "        **metrics_task1,\n",
        "        **metrics_task2,\n",
        "        \"overall_macro_f1\" : overall_macro_f1,\n",
        "        \"overall_macro_precision\": overall_macro_precision,\n",
        "        \"overall_macro_recall\": overall_macro_recall\n",
        "    }\n",
        "    return combined_metrics\n"
      ]
    },
    {
      "cell_type": "markdown",
      "metadata": {
        "id": "sM3qsCt14KD7"
      },
      "source": [
        "# Fine Tuning"
      ]
    },
    {
      "cell_type": "code",
      "execution_count": 51,
      "metadata": {
        "id": "KLOLiOWTcW9G"
      },
      "outputs": [],
      "source": [
        "from transformers import DataCollatorForTokenClassification, RobertaConfig, TrainingArguments, Trainer"
      ]
    },
    {
      "cell_type": "code",
      "execution_count": 52,
      "metadata": {
        "id": "Z2kEakaDQAPV"
      },
      "outputs": [],
      "source": [
        "data_collator = DataCollatorForTokenClassification(tokenizer=roberta_tokenizer)"
      ]
    },
    {
      "cell_type": "code",
      "execution_count": null,
      "metadata": {
        "id": "sTBYWKd3l74z"
      },
      "outputs": [],
      "source": [
        "## Model Configuration ##\n",
        "device = torch.device(\"cuda\" if torch.cuda.is_available() else \"cpu\")\n",
        "\n",
        "config = RobertaConfig.from_pretrained(\"roberta-base\")\n",
        "config.num_labels_cat = len(id2label)  ## ---> First head number of labels\n",
        "config.num_labels_pol = len(id2sentiment)  ## ---> Second head number of labels\n",
        "config.w_cat = w_cat\n",
        "config.w_pol = w_pol\n",
        "\n",
        "\n",
        "model = RobertaForABSA.from_pretrained(\"roberta-base\", config=config)"
      ]
    },
    {
      "cell_type": "code",
      "execution_count": 174,
      "metadata": {
        "id": "uYwFc4nn4MMw"
      },
      "outputs": [],
      "source": [
        "training_args = TrainingArguments(\n",
        "    output_dir= MODEL_PATH,\n",
        "    evaluation_strategy=\"epoch\",\n",
        "    save_strategy=\"epoch\",\n",
        "    save_total_limit= 2,\n",
        "    learning_rate=3.5e-5,\n",
        "    per_device_train_batch_size = 16,\n",
        "    per_device_eval_batch_size = 16,\n",
        "    num_train_epochs= 10,\n",
        "    weight_decay=0.01,\n",
        "    logging_dir=\"./logs\",\n",
        "    logging_steps=10,\n",
        "    load_best_model_at_end=True,\n",
        "    metric_for_best_model=\"overall_macro_f1\",\n",
        "    seed = 12345,\n",
        "    resume_from_checkpoint = True\n",
        ")"
      ]
    },
    {
      "cell_type": "code",
      "execution_count": 175,
      "metadata": {
        "id": "qw43jB8t4MJm"
      },
      "outputs": [],
      "source": [
        "trainer = Trainer(\n",
        "    model=model,\n",
        "    args=training_args,\n",
        "    train_dataset = train_dataset,\n",
        "    eval_dataset = val_dataset,\n",
        "    tokenizer = roberta_tokenizer,\n",
        "    data_collator = data_collator,\n",
        "    compute_metrics = compute_multitask_metrics,\n",
        ")\n"
      ]
    },
    {
      "cell_type": "code",
      "execution_count": null,
      "metadata": {
        "id": "QWGB7iWdF_2D"
      },
      "outputs": [],
      "source": [
        "CHECKPOINT = False"
      ]
    },
    {
      "cell_type": "code",
      "execution_count": null,
      "metadata": {
        "id": "oDLqI0V8F--o"
      },
      "outputs": [],
      "source": [
        "if CHECKPOINT:\n",
        "    trainer.train(resume_from_checkpoint = True)\n",
        "\n",
        "else:\n",
        "    trainer.train()"
      ]
    },
    {
      "cell_type": "code",
      "execution_count": null,
      "metadata": {
        "id": "0lsJ4QbLIa7a"
      },
      "outputs": [],
      "source": [
        "trainer.model.save_pretrained(MODEL_PATH)"
      ]
    },
    {
      "cell_type": "markdown",
      "metadata": {
        "id": "_j8xN4pV2H2N"
      },
      "source": [
        "# Test and Inference"
      ]
    },
    {
      "cell_type": "code",
      "execution_count": 53,
      "metadata": {
        "id": "ywdxU60U2UrJ"
      },
      "outputs": [],
      "source": [
        "model = RobertaForABSA.from_pretrained(MODEL_PATH)\n",
        "tokenizer = AutoTokenizer.from_pretrained(\"roberta-base\")"
      ]
    },
    {
      "cell_type": "code",
      "execution_count": null,
      "metadata": {
        "id": "sXBij3092T92"
      },
      "outputs": [],
      "source": [
        "tokenized_test_ds = test_ds.map(tokenize_and_adjust_labels)"
      ]
    },
    {
      "cell_type": "code",
      "execution_count": 57,
      "metadata": {
        "colab": {
          "base_uri": "https://localhost:8080/"
        },
        "id": "toF_3jK4cJe6",
        "outputId": "e5fab99e-b58f-481e-b654-2b46580bd2d3"
      },
      "outputs": [
        {
          "data": {
            "text/plain": [
              "Dataset({\n",
              "    features: ['text', 'labels', 'input_ids', 'attention_mask', 'offset_mapping', 'labels_cat', 'labels_pol'],\n",
              "    num_rows: 502\n",
              "})"
            ]
          },
          "execution_count": 57,
          "metadata": {},
          "output_type": "execute_result"
        }
      ],
      "source": [
        "tokenized_test_ds"
      ]
    },
    {
      "cell_type": "code",
      "execution_count": 58,
      "metadata": {
        "id": "RGnO4cPZ3bh3"
      },
      "outputs": [],
      "source": [
        "test_dataset = ABSADataset(tokenized_test_ds,test = True)"
      ]
    },
    {
      "cell_type": "code",
      "execution_count": 176,
      "metadata": {
        "colab": {
          "base_uri": "https://localhost:8080/",
          "height": 17
        },
        "id": "NNwaEHdporoJ",
        "outputId": "a2fd627c-a444-4f43-b3fb-6aed32057b71"
      },
      "outputs": [
        {
          "data": {
            "text/html": [],
            "text/plain": [
              "<IPython.core.display.HTML object>"
            ]
          },
          "metadata": {},
          "output_type": "display_data"
        }
      ],
      "source": [
        "test_results = trainer.predict(test_dataset)"
      ]
    },
    {
      "cell_type": "code",
      "execution_count": 177,
      "metadata": {
        "id": "gEBjCwAIo_zN"
      },
      "outputs": [],
      "source": [
        "metrics = test_results[2]"
      ]
    },
    {
      "cell_type": "code",
      "execution_count": 178,
      "metadata": {
        "id": "zjr58NvSlbwD"
      },
      "outputs": [],
      "source": [
        "metrics = partition_results(metrics)"
      ]
    },
    {
      "cell_type": "code",
      "execution_count": 179,
      "metadata": {
        "id": "ty7KeHR9lmTe"
      },
      "outputs": [],
      "source": [
        "res_file = os.path.join(RESULTS_MODEL_PATH, \"results_metrics.json\")"
      ]
    },
    {
      "cell_type": "code",
      "execution_count": null,
      "metadata": {
        "colab": {
          "base_uri": "https://localhost:8080/"
        },
        "id": "43iFfZer4xLC",
        "outputId": "391cf253-ee69-4613-f25e-d53daddaf5e8"
      },
      "outputs": [],
      "source": [
        "save_metrics_to_file(metrics,res_file)"
      ]
    },
    {
      "cell_type": "code",
      "execution_count": 181,
      "metadata": {
        "id": "LcwxhA0Qlg5j"
      },
      "outputs": [],
      "source": [
        "loaded_metrics = load_metrics_from_file(res_file)"
      ]
    },
    {
      "cell_type": "code",
      "execution_count": 165,
      "metadata": {
        "colab": {
          "base_uri": "https://localhost:8080/",
          "height": 581
        },
        "id": "It3BUc-677MC",
        "outputId": "28e36d14-e265-4124-adb7-bc6c227e0937"
      },
      "outputs": [
        {
          "data": {
            "image/png": "[encoded data removed]",
            "text/plain": [
              "<Figure size 1500x600 with 3 Axes>"
            ]
          },
          "metadata": {},
          "output_type": "display_data"
        }
      ],
      "source": [
        "PLOT_FILE = os.path.join(RESULTS_MODEL_PATH, \"results_plot_metrics.png\")\n",
        "plot_metrics(loaded_metrics, PLOT_FILE)"
      ]
    },
    {
      "cell_type": "code",
      "execution_count": 185,
      "metadata": {
        "colab": {
          "base_uri": "https://localhost:8080/",
          "height": 607
        },
        "id": "NX6naXyjlb5o",
        "outputId": "1a0acbb2-fa5e-4cd8-aed2-1197cf9b5a37"
      },
      "outputs": [
        {
          "data": {
            "image/png": "[encoded data removed]",
            "text/plain": [
              "<Figure size 1400x600 with 1 Axes>"
            ]
          },
          "metadata": {},
          "output_type": "display_data"
        }
      ],
      "source": [
        "## Plot F1 scores for each label/category ##\n",
        "PLOT_FILE = os.path.join(RESULTS_MODEL_PATH, \"results_plot_categories_aggregated.png\")\n",
        "plot_f1_categories(loaded_metrics,True, PLOT_FILE)"
      ]
    },
    {
      "cell_type": "code",
      "execution_count": 188,
      "metadata": {
        "colab": {
          "base_uri": "https://localhost:8080/",
          "height": 607
        },
        "id": "ai-NjClnt353",
        "outputId": "b440c759-6687-4cd4-81cb-6ef5b8987799"
      },
      "outputs": [
        {
          "data": {
            "image/png": "[encoded data removed]",
            "text/plain": [
              "<Figure size 1400x600 with 1 Axes>"
            ]
          },
          "metadata": {},
          "output_type": "display_data"
        }
      ],
      "source": [
        "## Plot F1 scores for tag B and I for each category ##\n",
        "PLOT_FILE = os.path.join(RESULTS_MODEL_PATH,\"results_plot_categories\")\n",
        "plot_f1_categories(loaded_metrics,False, PLOT_FILE)"
      ]
    },
    {
      "cell_type": "code",
      "execution_count": null,
      "metadata": {
        "id": "Gj6Q7CzqnAtz"
      },
      "outputs": [],
      "source": [
        "## Convert the output of the model in a human-readable format ##\n",
        "\n",
        "def get_tagged_groups(example, model, tokenizer):\n",
        "    \"\"\"\n",
        "    Get prediction of model on example, using tokenizer\n",
        "    Returns:\n",
        "    - List of spans under offset format {\"start\": ..., \"end\": ..., \"tag\": ..., \"polarity\":...}, sorted by start.\n",
        "    \"\"\"\n",
        "    offsets_and_tags = get_offsets_and_predicted_tags(example, model, tokenizer)\n",
        "    predicted_offsets = {l: [] for l in tag2id}\n",
        "    last_token_tags = []\n",
        "    last_token_pols = []\n",
        "\n",
        "    for item in offsets_and_tags:\n",
        "        (start, end), cats, pols = item[\"offset\"], item[\"categories\"], item[\"polarities\"]\n",
        "\n",
        "        for label_id in cats:\n",
        "            label = id2label[label_id]\n",
        "            tag = label[2:]  # \"I-PER\" => \"PER\"\n",
        "\n",
        "            if label.startswith(\"B-\"):\n",
        "                # Start a new group\n",
        "                predicted_offsets[tag].append({\"start\": start, \"end\": end, \"polarity\": set()})\n",
        "            elif label.startswith(\"I-\"):\n",
        "                # Continue an existing group if valid\n",
        "                if label2id[f\"B-{tag}\"] in cats:\n",
        "                    continue\n",
        "\n",
        "                if label_id not in last_token_tags and label2id[f\"B-{tag}\"] not in last_token_tags:\n",
        "                    predicted_offsets[tag].append({\"start\": start, \"end\": end, \"polarity\": set()})\n",
        "                else:\n",
        "                    predicted_offsets[tag][-1][\"end\"] = end\n",
        "\n",
        "            # Add polarities\n",
        "            if predicted_offsets[tag]:\n",
        "                predicted_offsets[tag][-1][\"polarity\"].update(pols)\n",
        "\n",
        "        last_token_tags = cats\n",
        "        last_token_pols = pols\n",
        "\n",
        "    # Flatten and format the output\n",
        "    flatten_predicted_offsets = [\n",
        "        {\n",
        "            **v,\n",
        "            \"category\": k,\n",
        "            \"span\": example[v[\"start\"]:v[\"end\"]],\n",
        "            \"polarity\": id2sentiment[list(v[\"polarity\"])[0]] if v[\"polarity\"] else \"negative\"\n",
        "        }\n",
        "        for k, v_list in predicted_offsets.items() for v in v_list if v[\"end\"] - v[\"start\"] >= 3\n",
        "    ]\n",
        "    flatten_predicted_offsets = sorted(\n",
        "        flatten_predicted_offsets,\n",
        "        key=lambda row: (row[\"start\"], row[\"end\"], row[\"category\"],row[\"polarity\"])\n",
        "    )\n",
        "    return flatten_predicted_offsets"
      ]
    },
    {
      "cell_type": "code",
      "execution_count": null,
      "metadata": {
        "id": "GgFloqh6nAtz"
      },
      "outputs": [],
      "source": [
        "example = \"During COP27, world leaders emphasized the urgent need for increased climate financing to support vulnerable nations in adapting to the impacts of global warming.\""
      ]
    },
    {
      "cell_type": "code",
      "execution_count": null,
      "metadata": {
        "colab": {
          "base_uri": "https://localhost:8080/"
        },
        "id": "JDik_pADnAtz",
        "outputId": "e6cd6df0-5a53-44af-bc3a-e7f636c0bef9"
      },
      "outputs": [
        {
          "data": {
            "text/plain": [
              "[{'start': 7,\n",
              "  'end': 12,\n",
              "  'polarity': 'neutral',\n",
              "  'category': 'CONFERENCE',\n",
              "  'span': 'COP27'},\n",
              " {'start': 14,\n",
              "  'end': 27,\n",
              "  'polarity': 'neutral',\n",
              "  'category': 'STAKEHOLDER',\n",
              "  'span': 'world leaders'},\n",
              " {'start': 43,\n",
              "  'end': 86,\n",
              "  'polarity': 'positive',\n",
              "  'category': 'POLICIES_AND_STRATEGIES',\n",
              "  'span': 'urgent need for increased climate financing'},\n",
              " {'start': 136,\n",
              "  'end': 161,\n",
              "  'polarity': 'negative',\n",
              "  'category': 'ENVIRONMENTAL_ISSUE',\n",
              "  'span': 'impacts of global warming'}]"
            ]
          },
          "execution_count": 36,
          "metadata": {},
          "output_type": "execute_result"
        }
      ],
      "source": [
        "get_tagged_groups(example, model, tokenizer)"
      ]
    }
  ],
  "metadata": {
    "accelerator": "GPU",
    "colab": {
      "collapsed_sections": [
        "CHHyMQRYoZ84",
        "iogK3255oflX",
        "H-MiZLCTZeYS",
        "Iu5yf3ddbxFv",
        "PzEUhy1AZnLj",
        "ypoIgHVtazTt",
        "8gdVIqRg3GT2",
        "Ydj3lxRy8kkG",
        "MgMIz9Pl1OP9",
        "QylqYFp0Yk7f",
        "1idosHFG0dac",
        "sM3qsCt14KD7",
        "_j8xN4pV2H2N"
      ],
      "gpuType": "T4",
      "provenance": []
    },
    "kernelspec": {
      "display_name": "Python 3",
      "name": "python3"
    },
    "language_info": {
      "name": "python"
    }
  },
  "nbformat": 4,
  "nbformat_minor": 0
}
